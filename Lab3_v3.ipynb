{
 "cells": [
  {
   "cell_type": "markdown",
   "metadata": {},
   "source": [
    "# CS4035 - Cyber Data Analytics\n",
    "## Lab 3 "
   ]
  },
  {
   "cell_type": "markdown",
   "metadata": {},
   "source": [
    "# --- NOTES ---\n",
    "\n",
    "- Discretize each \"netflow\" (which is just a single packet/row)\n",
    "- For each feature, create \"bins\" for the values (nunique? LabelEncoder?) \n",
    "- Concatenate all of these bins into a single feature, such that the dataset only has one feature (confirm?)\n",
    "- Use k-means to create clusters, and then \"utilize the interaction between the features to come up with the features\" (optional)\n",
    "\n",
    "\n",
    "- [Student] \"so each row has 1 feature after the concatenation. Since we need a 3-gram, doesn't this essentialy mean that we take row 1, row 2 and row 3 as the first 3-gram? Is then the second 3-gram, row 2, row 3, row 4?\"\n",
    "- [Daniel Vos] \"Yes, essentially. You summarize each row with one number/symbol and take 3-grams of these numbers/symbols\""
   ]
  },
  {
   "cell_type": "markdown",
   "metadata": {},
   "source": [
    "### Submit on brightspace (zip file with the name Group_xx.zip)\n",
    "(i) This jupyter file completed with code, plots, figures and report for each question. Additional plots and figures can be created for explanation before the end of each main question. Lab 3 contains 7 main questions, including the bonus. Write the code or explanation below each sub question. For the explantions, include what you would normally include in the report for this lab assignment, for example data pre-processing, hypothesis tested, approach, results, etc.\n",
    "(ii) A PDF or a Word report for the assignment. Create a report from the plots, figures, tables and the write-up that you provide in this jupyter file. The report will be used as a proof for page limit. \n",
    "(iii) The libraries needed to run this file. \n",
    "\n",
    "Your peers should be able to use the readme section for instructions and be able to run this file. "
   ]
  },
  {
   "cell_type": "markdown",
   "metadata": {},
   "source": [
    "## Group Number :"
   ]
  },
  {
   "cell_type": "markdown",
   "metadata": {},
   "source": [
    "## Student 1 \n",
    "### Name: Andrew Gold\n",
    "### ID: 4995902"
   ]
  },
  {
   "cell_type": "markdown",
   "metadata": {},
   "source": [
    "## Student 2\n",
    "### Name: Srinath Jayaraman\n",
    "### ID: 5049903"
   ]
  },
  {
   "cell_type": "markdown",
   "metadata": {},
   "source": [
    "## Readme - Provide instructions - libraries used, location of the data file, etc. Keep it short. Remember your peers will not debug your code and should be able to reproduce the exact output you provide."
   ]
  },
  {
   "cell_type": "code",
   "execution_count": 1,
   "metadata": {},
   "outputs": [],
   "source": [
    "import numpy as np\n",
    "import pandas as pd\n",
    "import matplotlib.pyplot as plt\n",
    "import seaborn as sns\n",
    "import hashlib\n",
    "\n",
    "from sklearn.preprocessing import LabelEncoder, OneHotEncoder, MinMaxScaler, StandardScaler"
   ]
  },
  {
   "cell_type": "code",
   "execution_count": 2,
   "metadata": {},
   "outputs": [
    {
     "data": {
      "text/html": [
       "<div>\n",
       "<style scoped>\n",
       "    .dataframe tbody tr th:only-of-type {\n",
       "        vertical-align: middle;\n",
       "    }\n",
       "\n",
       "    .dataframe tbody tr th {\n",
       "        vertical-align: top;\n",
       "    }\n",
       "\n",
       "    .dataframe thead th {\n",
       "        text-align: right;\n",
       "    }\n",
       "</style>\n",
       "<table border=\"1\" class=\"dataframe\">\n",
       "  <thead>\n",
       "    <tr style=\"text-align: right;\">\n",
       "      <th></th>\n",
       "      <th>Dur</th>\n",
       "      <th>Proto</th>\n",
       "      <th>SrcAddr</th>\n",
       "      <th>Sport</th>\n",
       "      <th>Dir</th>\n",
       "      <th>DstAddr</th>\n",
       "      <th>Dport</th>\n",
       "      <th>State</th>\n",
       "      <th>TotPkts</th>\n",
       "      <th>TotBytes</th>\n",
       "      <th>SrcBytes</th>\n",
       "      <th>Label</th>\n",
       "    </tr>\n",
       "  </thead>\n",
       "  <tbody>\n",
       "    <tr>\n",
       "      <th>0</th>\n",
       "      <td>3587.569824</td>\n",
       "      <td>tcp</td>\n",
       "      <td>147.32.84.164</td>\n",
       "      <td>54784</td>\n",
       "      <td>&lt;?&gt;</td>\n",
       "      <td>74.125.232.215</td>\n",
       "      <td>443</td>\n",
       "      <td>PA_PA</td>\n",
       "      <td>3049</td>\n",
       "      <td>978731</td>\n",
       "      <td>245317</td>\n",
       "      <td>flow=From-Normal-V51-Grill</td>\n",
       "    </tr>\n",
       "    <tr>\n",
       "      <th>1</th>\n",
       "      <td>198.072739</td>\n",
       "      <td>tcp</td>\n",
       "      <td>147.32.84.164</td>\n",
       "      <td>56165</td>\n",
       "      <td>&lt;?&gt;</td>\n",
       "      <td>74.125.232.197</td>\n",
       "      <td>80</td>\n",
       "      <td>FA_FA</td>\n",
       "      <td>14</td>\n",
       "      <td>924</td>\n",
       "      <td>462</td>\n",
       "      <td>flow=From-Normal-V51-Grill</td>\n",
       "    </tr>\n",
       "    <tr>\n",
       "      <th>2</th>\n",
       "      <td>197.928329</td>\n",
       "      <td>tcp</td>\n",
       "      <td>147.32.84.164</td>\n",
       "      <td>57965</td>\n",
       "      <td>&lt;?&gt;</td>\n",
       "      <td>209.85.149.138</td>\n",
       "      <td>80</td>\n",
       "      <td>FA_FA</td>\n",
       "      <td>14</td>\n",
       "      <td>924</td>\n",
       "      <td>462</td>\n",
       "      <td>flow=From-Normal-V51-Grill</td>\n",
       "    </tr>\n",
       "    <tr>\n",
       "      <th>3</th>\n",
       "      <td>0.000399</td>\n",
       "      <td>udp</td>\n",
       "      <td>147.32.84.170</td>\n",
       "      <td>45807</td>\n",
       "      <td>&lt;-&gt;</td>\n",
       "      <td>147.32.80.9</td>\n",
       "      <td>53</td>\n",
       "      <td>CON</td>\n",
       "      <td>2</td>\n",
       "      <td>400</td>\n",
       "      <td>74</td>\n",
       "      <td>flow=From-Normal-V51-Stribrek</td>\n",
       "    </tr>\n",
       "    <tr>\n",
       "      <th>4</th>\n",
       "      <td>0.000400</td>\n",
       "      <td>udp</td>\n",
       "      <td>147.32.84.170</td>\n",
       "      <td>35380</td>\n",
       "      <td>&lt;-&gt;</td>\n",
       "      <td>147.32.80.9</td>\n",
       "      <td>53</td>\n",
       "      <td>CON</td>\n",
       "      <td>2</td>\n",
       "      <td>400</td>\n",
       "      <td>74</td>\n",
       "      <td>flow=From-Normal-V51-Stribrek</td>\n",
       "    </tr>\n",
       "  </tbody>\n",
       "</table>\n",
       "</div>"
      ],
      "text/plain": [
       "           Dur Proto        SrcAddr  Sport    Dir         DstAddr Dport  \\\n",
       "0  3587.569824   tcp  147.32.84.164  54784    <?>  74.125.232.215   443   \n",
       "1   198.072739   tcp  147.32.84.164  56165    <?>  74.125.232.197    80   \n",
       "2   197.928329   tcp  147.32.84.164  57965    <?>  209.85.149.138    80   \n",
       "3     0.000399   udp  147.32.84.170  45807    <->     147.32.80.9    53   \n",
       "4     0.000400   udp  147.32.84.170  35380    <->     147.32.80.9    53   \n",
       "\n",
       "   State  TotPkts  TotBytes  SrcBytes                          Label  \n",
       "0  PA_PA     3049    978731    245317     flow=From-Normal-V51-Grill  \n",
       "1  FA_FA       14       924       462     flow=From-Normal-V51-Grill  \n",
       "2  FA_FA       14       924       462     flow=From-Normal-V51-Grill  \n",
       "3    CON        2       400        74  flow=From-Normal-V51-Stribrek  \n",
       "4    CON        2       400        74  flow=From-Normal-V51-Stribrek  "
      ]
     },
     "execution_count": 2,
     "metadata": {},
     "output_type": "execute_result"
    }
   ],
   "source": [
    "df_10 = pd.read_csv(\"./dataset_10/capture20110818.binetflow\")\n",
    "\n",
    "# Drop the following columns because...\n",
    "df_10.drop(\"StartTime\", axis=1, inplace=True) # Every value is different, time likely not an important factor\n",
    "df_10.drop(index=np.where(df_10['Label'].str.contains(\"Background\"))[0], inplace=True) # drop background traffic\n",
    "df_10.drop([\"sTos\", \"dTos\"], axis=1, inplace=True) # only contains 1 value, and NaN\n",
    "df_10.reset_index(drop=True, inplace=True)\n",
    "df_10.head()"
   ]
  },
  {
   "cell_type": "code",
   "execution_count": 3,
   "metadata": {},
   "outputs": [
    {
     "name": "stdout",
     "output_type": "stream",
     "text": [
      "<class 'pandas.core.frame.DataFrame'>\n",
      "RangeIndex: 122199 entries, 0 to 122198\n",
      "Data columns (total 12 columns):\n",
      " #   Column    Non-Null Count   Dtype  \n",
      "---  ------    --------------   -----  \n",
      " 0   Dur       122199 non-null  float64\n",
      " 1   Proto     122199 non-null  object \n",
      " 2   SrcAddr   122199 non-null  object \n",
      " 3   Sport     122172 non-null  object \n",
      " 4   Dir       122199 non-null  object \n",
      " 5   DstAddr   122199 non-null  object \n",
      " 6   Dport     21003 non-null   object \n",
      " 7   State     120972 non-null  object \n",
      " 8   TotPkts   122199 non-null  int64  \n",
      " 9   TotBytes  122199 non-null  int64  \n",
      " 10  SrcBytes  122199 non-null  int64  \n",
      " 11  Label     122199 non-null  object \n",
      "dtypes: float64(1), int64(3), object(8)\n",
      "memory usage: 11.2+ MB\n"
     ]
    }
   ],
   "source": [
    "df_10.info()"
   ]
  },
  {
   "cell_type": "markdown",
   "metadata": {},
   "source": [
    "## 1. Familiarization and discretization task – 1 A4"
   ]
  },
  {
   "cell_type": "code",
   "execution_count": 4,
   "metadata": {},
   "outputs": [
    {
     "data": {
      "text/plain": [
       "Dur              0\n",
       "Proto            0\n",
       "SrcAddr          0\n",
       "Sport           27\n",
       "Dir              0\n",
       "DstAddr          0\n",
       "Dport       101196\n",
       "State         1227\n",
       "TotPkts          0\n",
       "TotBytes         0\n",
       "SrcBytes         0\n",
       "Label            0\n",
       "dtype: int64"
      ]
     },
     "execution_count": 4,
     "metadata": {},
     "output_type": "execute_result"
    }
   ],
   "source": [
    "# First let's see what kind of null values we've got\n",
    "df_10.isnull().sum()"
   ]
  },
  {
   "cell_type": "code",
   "execution_count": 5,
   "metadata": {},
   "outputs": [],
   "source": [
    "# Fill the NaN values (ICMP packets are transport-layer, so they don't have a port number. Set the ports = 0)\n",
    "df_10.Sport.fillna(value=0, inplace=True) # set the NaN port = 0\n",
    "df_10.Dport.fillna(value=0, inplace=True) # set the NaN port = 0\n",
    "df_10.State.fillna(value=\"OTHER\", inplace=True) # Set the state to OTHER"
   ]
  },
  {
   "cell_type": "code",
   "execution_count": 6,
   "metadata": {},
   "outputs": [
    {
     "data": {
      "text/plain": [
       "0           443\n",
       "1            80\n",
       "2            80\n",
       "3            53\n",
       "4            53\n",
       "          ...  \n",
       "122194    33822\n",
       "122195    33822\n",
       "122196       53\n",
       "122197       53\n",
       "122198       80\n",
       "Name: Dport, Length: 122199, dtype: int64"
      ]
     },
     "execution_count": 6,
     "metadata": {},
     "output_type": "execute_result"
    }
   ],
   "source": [
    "# Remove hexadecimal values from the dataset\n",
    "df_10.Dport = df_10.Dport.astype('str')\n",
    "df_10.Sport = df_10.Sport.astype('str')\n",
    "\n",
    "df_10.Dport = df_10.Dport.apply(lambda x: int(str(x), 0))\n",
    "df_10.Sport = df_10.Sport.apply(lambda x: int(str(x), 0))\n",
    "\n",
    "df_10.Dport"
   ]
  },
  {
   "cell_type": "code",
   "execution_count": 7,
   "metadata": {},
   "outputs": [
    {
     "name": "stderr",
     "output_type": "stream",
     "text": [
      "<ipython-input-7-bce7a68da95d>:2: DeprecationWarning: The default dtype for empty Series will be 'object' instead of 'float64' in a future version. Specify a dtype explicitly to silence this warning.\n",
      "  df_10['MetaLabel'] = pd.Series()\n",
      "C:\\ProgramData\\Anaconda3\\envs\\lab\\lib\\site-packages\\pandas\\core\\indexing.py:1637: SettingWithCopyWarning: \n",
      "A value is trying to be set on a copy of a slice from a DataFrame\n",
      "\n",
      "See the caveats in the documentation: https://pandas.pydata.org/pandas-docs/stable/user_guide/indexing.html#returning-a-view-versus-a-copy\n",
      "  self._setitem_single_block(indexer, value, name)\n"
     ]
    },
    {
     "data": {
      "text/html": [
       "<div>\n",
       "<style scoped>\n",
       "    .dataframe tbody tr th:only-of-type {\n",
       "        vertical-align: middle;\n",
       "    }\n",
       "\n",
       "    .dataframe tbody tr th {\n",
       "        vertical-align: top;\n",
       "    }\n",
       "\n",
       "    .dataframe thead th {\n",
       "        text-align: right;\n",
       "    }\n",
       "</style>\n",
       "<table border=\"1\" class=\"dataframe\">\n",
       "  <thead>\n",
       "    <tr style=\"text-align: right;\">\n",
       "      <th></th>\n",
       "      <th>Dur</th>\n",
       "      <th>Proto</th>\n",
       "      <th>SrcAddr</th>\n",
       "      <th>Sport</th>\n",
       "      <th>Dir</th>\n",
       "      <th>DstAddr</th>\n",
       "      <th>Dport</th>\n",
       "      <th>State</th>\n",
       "      <th>TotPkts</th>\n",
       "      <th>TotBytes</th>\n",
       "      <th>SrcBytes</th>\n",
       "      <th>Label</th>\n",
       "      <th>MetaLabel</th>\n",
       "    </tr>\n",
       "  </thead>\n",
       "  <tbody>\n",
       "    <tr>\n",
       "      <th>0</th>\n",
       "      <td>3587.569824</td>\n",
       "      <td>tcp</td>\n",
       "      <td>147.32.84.164</td>\n",
       "      <td>54784</td>\n",
       "      <td>&lt;?&gt;</td>\n",
       "      <td>74.125.232.215</td>\n",
       "      <td>443</td>\n",
       "      <td>PA_PA</td>\n",
       "      <td>3049</td>\n",
       "      <td>978731</td>\n",
       "      <td>245317</td>\n",
       "      <td>flow=From-Normal-V51-Grill</td>\n",
       "      <td>NaN</td>\n",
       "    </tr>\n",
       "    <tr>\n",
       "      <th>1</th>\n",
       "      <td>198.072739</td>\n",
       "      <td>tcp</td>\n",
       "      <td>147.32.84.164</td>\n",
       "      <td>56165</td>\n",
       "      <td>&lt;?&gt;</td>\n",
       "      <td>74.125.232.197</td>\n",
       "      <td>80</td>\n",
       "      <td>FA_FA</td>\n",
       "      <td>14</td>\n",
       "      <td>924</td>\n",
       "      <td>462</td>\n",
       "      <td>flow=From-Normal-V51-Grill</td>\n",
       "      <td>NaN</td>\n",
       "    </tr>\n",
       "    <tr>\n",
       "      <th>2</th>\n",
       "      <td>197.928329</td>\n",
       "      <td>tcp</td>\n",
       "      <td>147.32.84.164</td>\n",
       "      <td>57965</td>\n",
       "      <td>&lt;?&gt;</td>\n",
       "      <td>209.85.149.138</td>\n",
       "      <td>80</td>\n",
       "      <td>FA_FA</td>\n",
       "      <td>14</td>\n",
       "      <td>924</td>\n",
       "      <td>462</td>\n",
       "      <td>flow=From-Normal-V51-Grill</td>\n",
       "      <td>NaN</td>\n",
       "    </tr>\n",
       "    <tr>\n",
       "      <th>3</th>\n",
       "      <td>0.000399</td>\n",
       "      <td>udp</td>\n",
       "      <td>147.32.84.170</td>\n",
       "      <td>45807</td>\n",
       "      <td>&lt;-&gt;</td>\n",
       "      <td>147.32.80.9</td>\n",
       "      <td>53</td>\n",
       "      <td>CON</td>\n",
       "      <td>2</td>\n",
       "      <td>400</td>\n",
       "      <td>74</td>\n",
       "      <td>flow=From-Normal-V51-Stribrek</td>\n",
       "      <td>NaN</td>\n",
       "    </tr>\n",
       "    <tr>\n",
       "      <th>4</th>\n",
       "      <td>0.000400</td>\n",
       "      <td>udp</td>\n",
       "      <td>147.32.84.170</td>\n",
       "      <td>35380</td>\n",
       "      <td>&lt;-&gt;</td>\n",
       "      <td>147.32.80.9</td>\n",
       "      <td>53</td>\n",
       "      <td>CON</td>\n",
       "      <td>2</td>\n",
       "      <td>400</td>\n",
       "      <td>74</td>\n",
       "      <td>flow=From-Normal-V51-Stribrek</td>\n",
       "      <td>NaN</td>\n",
       "    </tr>\n",
       "    <tr>\n",
       "      <th>...</th>\n",
       "      <td>...</td>\n",
       "      <td>...</td>\n",
       "      <td>...</td>\n",
       "      <td>...</td>\n",
       "      <td>...</td>\n",
       "      <td>...</td>\n",
       "      <td>...</td>\n",
       "      <td>...</td>\n",
       "      <td>...</td>\n",
       "      <td>...</td>\n",
       "      <td>...</td>\n",
       "      <td>...</td>\n",
       "      <td>...</td>\n",
       "    </tr>\n",
       "    <tr>\n",
       "      <th>122194</th>\n",
       "      <td>0.000743</td>\n",
       "      <td>icmp</td>\n",
       "      <td>147.32.84.164</td>\n",
       "      <td>8</td>\n",
       "      <td>&lt;-&gt;</td>\n",
       "      <td>147.32.96.69</td>\n",
       "      <td>33822</td>\n",
       "      <td>ECO</td>\n",
       "      <td>2</td>\n",
       "      <td>196</td>\n",
       "      <td>98</td>\n",
       "      <td>flow=From-Normal-V51-Grill</td>\n",
       "      <td>NaN</td>\n",
       "    </tr>\n",
       "    <tr>\n",
       "      <th>122195</th>\n",
       "      <td>0.000913</td>\n",
       "      <td>icmp</td>\n",
       "      <td>147.32.84.164</td>\n",
       "      <td>8</td>\n",
       "      <td>&lt;-&gt;</td>\n",
       "      <td>147.32.96.69</td>\n",
       "      <td>33822</td>\n",
       "      <td>ECO</td>\n",
       "      <td>2</td>\n",
       "      <td>196</td>\n",
       "      <td>98</td>\n",
       "      <td>flow=From-Normal-V51-Grill</td>\n",
       "      <td>NaN</td>\n",
       "    </tr>\n",
       "    <tr>\n",
       "      <th>122196</th>\n",
       "      <td>0.000414</td>\n",
       "      <td>udp</td>\n",
       "      <td>147.32.84.170</td>\n",
       "      <td>37138</td>\n",
       "      <td>&lt;-&gt;</td>\n",
       "      <td>147.32.80.9</td>\n",
       "      <td>53</td>\n",
       "      <td>CON</td>\n",
       "      <td>2</td>\n",
       "      <td>244</td>\n",
       "      <td>81</td>\n",
       "      <td>flow=From-Normal-V51-Stribrek</td>\n",
       "      <td>NaN</td>\n",
       "    </tr>\n",
       "    <tr>\n",
       "      <th>122197</th>\n",
       "      <td>0.000322</td>\n",
       "      <td>udp</td>\n",
       "      <td>147.32.84.170</td>\n",
       "      <td>39771</td>\n",
       "      <td>&lt;-&gt;</td>\n",
       "      <td>147.32.80.9</td>\n",
       "      <td>53</td>\n",
       "      <td>CON</td>\n",
       "      <td>2</td>\n",
       "      <td>280</td>\n",
       "      <td>81</td>\n",
       "      <td>flow=From-Normal-V51-Stribrek</td>\n",
       "      <td>NaN</td>\n",
       "    </tr>\n",
       "    <tr>\n",
       "      <th>122198</th>\n",
       "      <td>0.109055</td>\n",
       "      <td>tcp</td>\n",
       "      <td>147.32.84.170</td>\n",
       "      <td>43073</td>\n",
       "      <td>-&gt;</td>\n",
       "      <td>195.24.232.205</td>\n",
       "      <td>80</td>\n",
       "      <td>SPA_SA</td>\n",
       "      <td>5</td>\n",
       "      <td>557</td>\n",
       "      <td>417</td>\n",
       "      <td>flow=From-Normal-V51-Stribrek</td>\n",
       "      <td>NaN</td>\n",
       "    </tr>\n",
       "  </tbody>\n",
       "</table>\n",
       "<p>122199 rows × 13 columns</p>\n",
       "</div>"
      ],
      "text/plain": [
       "                Dur Proto        SrcAddr  Sport    Dir         DstAddr  Dport  \\\n",
       "0       3587.569824   tcp  147.32.84.164  54784    <?>  74.125.232.215    443   \n",
       "1        198.072739   tcp  147.32.84.164  56165    <?>  74.125.232.197     80   \n",
       "2        197.928329   tcp  147.32.84.164  57965    <?>  209.85.149.138     80   \n",
       "3          0.000399   udp  147.32.84.170  45807    <->     147.32.80.9     53   \n",
       "4          0.000400   udp  147.32.84.170  35380    <->     147.32.80.9     53   \n",
       "...             ...   ...            ...    ...    ...             ...    ...   \n",
       "122194     0.000743  icmp  147.32.84.164      8    <->    147.32.96.69  33822   \n",
       "122195     0.000913  icmp  147.32.84.164      8    <->    147.32.96.69  33822   \n",
       "122196     0.000414   udp  147.32.84.170  37138    <->     147.32.80.9     53   \n",
       "122197     0.000322   udp  147.32.84.170  39771    <->     147.32.80.9     53   \n",
       "122198     0.109055   tcp  147.32.84.170  43073     ->  195.24.232.205     80   \n",
       "\n",
       "         State  TotPkts  TotBytes  SrcBytes                          Label  \\\n",
       "0        PA_PA     3049    978731    245317     flow=From-Normal-V51-Grill   \n",
       "1        FA_FA       14       924       462     flow=From-Normal-V51-Grill   \n",
       "2        FA_FA       14       924       462     flow=From-Normal-V51-Grill   \n",
       "3          CON        2       400        74  flow=From-Normal-V51-Stribrek   \n",
       "4          CON        2       400        74  flow=From-Normal-V51-Stribrek   \n",
       "...        ...      ...       ...       ...                            ...   \n",
       "122194     ECO        2       196        98     flow=From-Normal-V51-Grill   \n",
       "122195     ECO        2       196        98     flow=From-Normal-V51-Grill   \n",
       "122196     CON        2       244        81  flow=From-Normal-V51-Stribrek   \n",
       "122197     CON        2       280        81  flow=From-Normal-V51-Stribrek   \n",
       "122198  SPA_SA        5       557       417  flow=From-Normal-V51-Stribrek   \n",
       "\n",
       "       MetaLabel  \n",
       "0            NaN  \n",
       "1            NaN  \n",
       "2            NaN  \n",
       "3            NaN  \n",
       "4            NaN  \n",
       "...          ...  \n",
       "122194       NaN  \n",
       "122195       NaN  \n",
       "122196       NaN  \n",
       "122197       NaN  \n",
       "122198       NaN  \n",
       "\n",
       "[122199 rows x 13 columns]"
      ]
     },
     "execution_count": 7,
     "metadata": {},
     "output_type": "execute_result"
    }
   ],
   "source": [
    "# Let's create a meta-label attribute for each protocol type for botnet activity\n",
    "df_10['MetaLabel'] = pd.Series()\n",
    "# df_10_inf.Metalabel.loc[np.where(df_10_inf.Label.str.contains('Normal'))] = 'Normal'\n",
    "df_10.MetaLabel.loc[np.where(df_10.Label.str.contains('ICMP'))] = 'Botnet-ICMP'\n",
    "df_10.MetaLabel.loc[np.where(df_10.Label.str.contains('UDP'))] = 'Botnet-UDP'\n",
    "df_10.MetaLabel.loc[np.where(df_10.Label.str.contains('TCP'))] = 'Botnet-TCP'\n",
    "\n",
    "df_10\n"
   ]
  },
  {
   "cell_type": "code",
   "execution_count": 8,
   "metadata": {},
   "outputs": [
    {
     "data": {
      "text/plain": [
       "array(['147.32.84.165', '147.32.84.191', '147.32.84.192', '147.32.84.193',\n",
       "       '147.32.84.204', '147.32.84.205', '147.32.84.206', '147.32.84.207',\n",
       "       '147.32.84.208', '147.32.84.209'], dtype=object)"
      ]
     },
     "execution_count": 8,
     "metadata": {},
     "output_type": "execute_result"
    }
   ],
   "source": [
    "# Identify the infected hosts:\n",
    "inf = df_10.loc[np.where(df_10.Label.str.contains('Botnet'))].SrcAddr.unique()\n",
    "inf"
   ]
  },
  {
   "cell_type": "code",
   "execution_count": 9,
   "metadata": {},
   "outputs": [
    {
     "data": {
      "text/plain": [
       "147.32.84.205    11874\n",
       "147.32.84.206    11287\n",
       "147.32.84.204    11159\n",
       "147.32.84.208    11118\n",
       "147.32.84.207    10581\n",
       "147.32.84.191    10454\n",
       "147.32.84.192    10397\n",
       "147.32.84.193    10009\n",
       "147.32.84.209     9894\n",
       "147.32.84.165     9579\n",
       "Name: SrcAddr, dtype: int64"
      ]
     },
     "execution_count": 9,
     "metadata": {},
     "output_type": "execute_result"
    }
   ],
   "source": [
    "# see the activity level of each infected host\n",
    "df_10.SrcAddr.loc[np.where(df_10.Label.str.contains('Botnet'))].value_counts()"
   ]
  },
  {
   "cell_type": "code",
   "execution_count": 10,
   "metadata": {},
   "outputs": [
    {
     "data": {
      "text/plain": [
       "<BarContainer object of 10 artists>"
      ]
     },
     "execution_count": 10,
     "metadata": {},
     "output_type": "execute_result"
    },
    {
     "data": {
      "image/png": "[encoded data removed]",
      "text/plain": [
       "<Figure size 1800x576 with 1 Axes>"
      ]
     },
     "metadata": {
      "needs_background": "light"
     },
     "output_type": "display_data"
    }
   ],
   "source": [
    "# visualization of amount of traffic from each infected source\n",
    "fig = plt.figure(figsize=(25,8))\n",
    "plt.title('Traffic volume from each infected source (IP)', size=24)\n",
    "plt.bar(df_10.loc[df_10.SrcAddr.isin(inf)].SrcAddr.value_counts().index,\n",
    "        df_10.loc[df_10.SrcAddr.isin(inf)].SrcAddr.value_counts())"
   ]
  },
  {
   "cell_type": "code",
   "execution_count": 11,
   "metadata": {},
   "outputs": [
    {
     "data": {
      "text/html": [
       "<div>\n",
       "<style scoped>\n",
       "    .dataframe tbody tr th:only-of-type {\n",
       "        vertical-align: middle;\n",
       "    }\n",
       "\n",
       "    .dataframe tbody tr th {\n",
       "        vertical-align: top;\n",
       "    }\n",
       "\n",
       "    .dataframe thead th {\n",
       "        text-align: right;\n",
       "    }\n",
       "</style>\n",
       "<table border=\"1\" class=\"dataframe\">\n",
       "  <thead>\n",
       "    <tr style=\"text-align: right;\">\n",
       "      <th></th>\n",
       "      <th>index</th>\n",
       "      <th>Dur</th>\n",
       "      <th>Proto</th>\n",
       "      <th>SrcAddr</th>\n",
       "      <th>Sport</th>\n",
       "      <th>Dir</th>\n",
       "      <th>DstAddr</th>\n",
       "      <th>Dport</th>\n",
       "      <th>State</th>\n",
       "      <th>TotPkts</th>\n",
       "      <th>TotBytes</th>\n",
       "      <th>SrcBytes</th>\n",
       "      <th>Label</th>\n",
       "      <th>MetaLabel</th>\n",
       "    </tr>\n",
       "  </thead>\n",
       "  <tbody>\n",
       "    <tr>\n",
       "      <th>0</th>\n",
       "      <td>1473</td>\n",
       "      <td>0.000263</td>\n",
       "      <td>udp</td>\n",
       "      <td>147.32.84.205</td>\n",
       "      <td>1025</td>\n",
       "      <td>&lt;-&gt;</td>\n",
       "      <td>147.32.80.9</td>\n",
       "      <td>53</td>\n",
       "      <td>CON</td>\n",
       "      <td>2</td>\n",
       "      <td>203</td>\n",
       "      <td>64</td>\n",
       "      <td>flow=From-Botnet-V51-6-UDP-DNS</td>\n",
       "      <td>Botnet-UDP</td>\n",
       "    </tr>\n",
       "    <tr>\n",
       "      <th>1</th>\n",
       "      <td>1474</td>\n",
       "      <td>0.000401</td>\n",
       "      <td>udp</td>\n",
       "      <td>147.32.84.205</td>\n",
       "      <td>1025</td>\n",
       "      <td>&lt;-&gt;</td>\n",
       "      <td>147.32.80.9</td>\n",
       "      <td>53</td>\n",
       "      <td>CON</td>\n",
       "      <td>2</td>\n",
       "      <td>590</td>\n",
       "      <td>87</td>\n",
       "      <td>flow=From-Botnet-V51-6-UDP-DNS</td>\n",
       "      <td>Botnet-UDP</td>\n",
       "    </tr>\n",
       "    <tr>\n",
       "      <th>2</th>\n",
       "      <td>1475</td>\n",
       "      <td>0.075763</td>\n",
       "      <td>tcp</td>\n",
       "      <td>147.32.84.205</td>\n",
       "      <td>1027</td>\n",
       "      <td>-&gt;</td>\n",
       "      <td>74.125.232.199</td>\n",
       "      <td>80</td>\n",
       "      <td>SRPA_SPA</td>\n",
       "      <td>7</td>\n",
       "      <td>882</td>\n",
       "      <td>629</td>\n",
       "      <td>flow=From-Botnet-V51-6-TCP-HTTP-Google-Net-Est...</td>\n",
       "      <td>Botnet-TCP</td>\n",
       "    </tr>\n",
       "    <tr>\n",
       "      <th>3</th>\n",
       "      <td>1478</td>\n",
       "      <td>0.000450</td>\n",
       "      <td>udp</td>\n",
       "      <td>147.32.84.205</td>\n",
       "      <td>1025</td>\n",
       "      <td>&lt;-&gt;</td>\n",
       "      <td>147.32.80.9</td>\n",
       "      <td>53</td>\n",
       "      <td>CON</td>\n",
       "      <td>2</td>\n",
       "      <td>479</td>\n",
       "      <td>76</td>\n",
       "      <td>flow=From-Botnet-V51-6-UDP-DNS</td>\n",
       "      <td>Botnet-UDP</td>\n",
       "    </tr>\n",
       "    <tr>\n",
       "      <th>4</th>\n",
       "      <td>1479</td>\n",
       "      <td>3.017135</td>\n",
       "      <td>udp</td>\n",
       "      <td>147.32.84.205</td>\n",
       "      <td>123</td>\n",
       "      <td>-&gt;</td>\n",
       "      <td>65.55.56.40</td>\n",
       "      <td>123</td>\n",
       "      <td>INT</td>\n",
       "      <td>2</td>\n",
       "      <td>180</td>\n",
       "      <td>180</td>\n",
       "      <td>flow=From-Botnet-V51-6-UDP-Attempt</td>\n",
       "      <td>Botnet-UDP</td>\n",
       "    </tr>\n",
       "    <tr>\n",
       "      <th>...</th>\n",
       "      <td>...</td>\n",
       "      <td>...</td>\n",
       "      <td>...</td>\n",
       "      <td>...</td>\n",
       "      <td>...</td>\n",
       "      <td>...</td>\n",
       "      <td>...</td>\n",
       "      <td>...</td>\n",
       "      <td>...</td>\n",
       "      <td>...</td>\n",
       "      <td>...</td>\n",
       "      <td>...</td>\n",
       "      <td>...</td>\n",
       "      <td>...</td>\n",
       "    </tr>\n",
       "    <tr>\n",
       "      <th>11869</th>\n",
       "      <td>121650</td>\n",
       "      <td>367.653198</td>\n",
       "      <td>tcp</td>\n",
       "      <td>147.32.84.205</td>\n",
       "      <td>1026</td>\n",
       "      <td>-&gt;</td>\n",
       "      <td>216.155.130.130</td>\n",
       "      <td>6667</td>\n",
       "      <td>SPA_SPA</td>\n",
       "      <td>55</td>\n",
       "      <td>14273</td>\n",
       "      <td>1662</td>\n",
       "      <td>flow=From-Botnet-V51-6-TCP-CC106-IRC-Not-Encry...</td>\n",
       "      <td>Botnet-TCP</td>\n",
       "    </tr>\n",
       "    <tr>\n",
       "      <th>11870</th>\n",
       "      <td>121654</td>\n",
       "      <td>0.000455</td>\n",
       "      <td>udp</td>\n",
       "      <td>147.32.84.205</td>\n",
       "      <td>1025</td>\n",
       "      <td>&lt;-&gt;</td>\n",
       "      <td>147.32.80.9</td>\n",
       "      <td>53</td>\n",
       "      <td>CON</td>\n",
       "      <td>2</td>\n",
       "      <td>590</td>\n",
       "      <td>87</td>\n",
       "      <td>flow=From-Botnet-V51-6-UDP-DNS</td>\n",
       "      <td>Botnet-UDP</td>\n",
       "    </tr>\n",
       "    <tr>\n",
       "      <th>11871</th>\n",
       "      <td>121655</td>\n",
       "      <td>0.044163</td>\n",
       "      <td>tcp</td>\n",
       "      <td>147.32.84.205</td>\n",
       "      <td>1028</td>\n",
       "      <td>-&gt;</td>\n",
       "      <td>74.125.232.202</td>\n",
       "      <td>80</td>\n",
       "      <td>SRPA_SPA</td>\n",
       "      <td>7</td>\n",
       "      <td>882</td>\n",
       "      <td>629</td>\n",
       "      <td>flow=From-Botnet-V51-6-TCP-HTTP-Google-Net-Est...</td>\n",
       "      <td>Botnet-TCP</td>\n",
       "    </tr>\n",
       "    <tr>\n",
       "      <th>11872</th>\n",
       "      <td>121656</td>\n",
       "      <td>0.000412</td>\n",
       "      <td>udp</td>\n",
       "      <td>147.32.84.205</td>\n",
       "      <td>1025</td>\n",
       "      <td>&lt;-&gt;</td>\n",
       "      <td>147.32.80.9</td>\n",
       "      <td>53</td>\n",
       "      <td>CON</td>\n",
       "      <td>2</td>\n",
       "      <td>479</td>\n",
       "      <td>76</td>\n",
       "      <td>flow=From-Botnet-V51-6-UDP-DNS</td>\n",
       "      <td>Botnet-UDP</td>\n",
       "    </tr>\n",
       "    <tr>\n",
       "      <th>11873</th>\n",
       "      <td>121657</td>\n",
       "      <td>2.994376</td>\n",
       "      <td>udp</td>\n",
       "      <td>147.32.84.205</td>\n",
       "      <td>123</td>\n",
       "      <td>-&gt;</td>\n",
       "      <td>65.55.56.40</td>\n",
       "      <td>123</td>\n",
       "      <td>INT</td>\n",
       "      <td>2</td>\n",
       "      <td>180</td>\n",
       "      <td>180</td>\n",
       "      <td>flow=From-Botnet-V51-6-UDP-Attempt</td>\n",
       "      <td>Botnet-UDP</td>\n",
       "    </tr>\n",
       "  </tbody>\n",
       "</table>\n",
       "<p>11874 rows × 14 columns</p>\n",
       "</div>"
      ],
      "text/plain": [
       "        index         Dur Proto        SrcAddr  Sport    Dir          DstAddr  \\\n",
       "0        1473    0.000263   udp  147.32.84.205   1025    <->      147.32.80.9   \n",
       "1        1474    0.000401   udp  147.32.84.205   1025    <->      147.32.80.9   \n",
       "2        1475    0.075763   tcp  147.32.84.205   1027     ->   74.125.232.199   \n",
       "3        1478    0.000450   udp  147.32.84.205   1025    <->      147.32.80.9   \n",
       "4        1479    3.017135   udp  147.32.84.205    123     ->      65.55.56.40   \n",
       "...       ...         ...   ...            ...    ...    ...              ...   \n",
       "11869  121650  367.653198   tcp  147.32.84.205   1026     ->  216.155.130.130   \n",
       "11870  121654    0.000455   udp  147.32.84.205   1025    <->      147.32.80.9   \n",
       "11871  121655    0.044163   tcp  147.32.84.205   1028     ->   74.125.232.202   \n",
       "11872  121656    0.000412   udp  147.32.84.205   1025    <->      147.32.80.9   \n",
       "11873  121657    2.994376   udp  147.32.84.205    123     ->      65.55.56.40   \n",
       "\n",
       "       Dport     State  TotPkts  TotBytes  SrcBytes  \\\n",
       "0         53       CON        2       203        64   \n",
       "1         53       CON        2       590        87   \n",
       "2         80  SRPA_SPA        7       882       629   \n",
       "3         53       CON        2       479        76   \n",
       "4        123       INT        2       180       180   \n",
       "...      ...       ...      ...       ...       ...   \n",
       "11869   6667   SPA_SPA       55     14273      1662   \n",
       "11870     53       CON        2       590        87   \n",
       "11871     80  SRPA_SPA        7       882       629   \n",
       "11872     53       CON        2       479        76   \n",
       "11873    123       INT        2       180       180   \n",
       "\n",
       "                                                   Label   MetaLabel  \n",
       "0                         flow=From-Botnet-V51-6-UDP-DNS  Botnet-UDP  \n",
       "1                         flow=From-Botnet-V51-6-UDP-DNS  Botnet-UDP  \n",
       "2      flow=From-Botnet-V51-6-TCP-HTTP-Google-Net-Est...  Botnet-TCP  \n",
       "3                         flow=From-Botnet-V51-6-UDP-DNS  Botnet-UDP  \n",
       "4                     flow=From-Botnet-V51-6-UDP-Attempt  Botnet-UDP  \n",
       "...                                                  ...         ...  \n",
       "11869  flow=From-Botnet-V51-6-TCP-CC106-IRC-Not-Encry...  Botnet-TCP  \n",
       "11870                     flow=From-Botnet-V51-6-UDP-DNS  Botnet-UDP  \n",
       "11871  flow=From-Botnet-V51-6-TCP-HTTP-Google-Net-Est...  Botnet-TCP  \n",
       "11872                     flow=From-Botnet-V51-6-UDP-DNS  Botnet-UDP  \n",
       "11873                 flow=From-Botnet-V51-6-UDP-Attempt  Botnet-UDP  \n",
       "\n",
       "[11874 rows x 14 columns]"
      ]
     },
     "execution_count": 11,
     "metadata": {},
     "output_type": "execute_result"
    }
   ],
   "source": [
    "# pick one of the hosts (we'll choose the one with the most traffic)\n",
    "df_10_inf_1 = df_10.loc[df_10.SrcAddr == '147.32.84.205'].reset_index(inplace=False)\n",
    "df_10_inf_1"
   ]
  },
  {
   "cell_type": "code",
   "execution_count": 12,
   "metadata": {},
   "outputs": [
    {
     "data": {
      "text/plain": [
       "icmp    11836\n",
       "udp        30\n",
       "tcp         8\n",
       "Name: Proto, dtype: int64"
      ]
     },
     "execution_count": 12,
     "metadata": {},
     "output_type": "execute_result"
    }
   ],
   "source": [
    "df_10_inf_1.Proto.value_counts()"
   ]
  },
  {
   "cell_type": "code",
   "execution_count": 13,
   "metadata": {},
   "outputs": [
    {
     "data": {
      "text/plain": [
       "<BarContainer object of 3 artists>"
      ]
     },
     "execution_count": 13,
     "metadata": {},
     "output_type": "execute_result"
    },
    {
     "data": {
      "image/png": "[encoded data removed]",
      "text/plain": [
       "<Figure size 432x288 with 1 Axes>"
      ]
     },
     "metadata": {
      "needs_background": "light"
     },
     "output_type": "display_data"
    }
   ],
   "source": [
    "# Let's see what the frequency of each type of packet is\n",
    "plt.yscale('log')\n",
    "plt.title('Protocol value counts (log scale)')\n",
    "plt.bar(df_10_inf_1.Proto.unique(), df_10_inf_1.Proto.value_counts())"
   ]
  },
  {
   "cell_type": "code",
   "execution_count": 14,
   "metadata": {},
   "outputs": [
    {
     "data": {
      "text/plain": [
       "<BarContainer object of 2 artists>"
      ]
     },
     "execution_count": 14,
     "metadata": {},
     "output_type": "execute_result"
    },
    {
     "data": {
      "image/png": "[encoded data removed]",
      "text/plain": [
       "<Figure size 432x288 with 1 Axes>"
      ]
     },
     "metadata": {
      "needs_background": "light"
     },
     "output_type": "display_data"
    }
   ],
   "source": [
    "# frequency of each type of directional traffic\n",
    "plt.yscale('log')\n",
    "plt.title('Packet direction value counts (log scale)')\n",
    "plt.bar(df_10_inf_1.Dir.unique(), df_10_inf_1.Dir.value_counts())"
   ]
  },
  {
   "cell_type": "code",
   "execution_count": 15,
   "metadata": {},
   "outputs": [],
   "source": [
    "df_10_enc = df_10_inf_1.copy()\n",
    "# df_10_enc.Dur = LabelEncoder().fit_transform(df_10_enc.Dur)\n",
    "df_10_enc.Proto = LabelEncoder().fit_transform(df_10_enc.Proto)\n",
    "df_10_enc.SrcAddr = LabelEncoder().fit_transform(df_10_enc.SrcAddr)\n",
    "df_10_enc.Sport = LabelEncoder().fit_transform(df_10_enc.Sport.astype('str'))\n",
    "df_10_enc.Dir = LabelEncoder().fit_transform(df_10_enc.Dir)\n",
    "df_10_enc.DstAddr = LabelEncoder().fit_transform(df_10_enc.DstAddr.astype('str'))\n",
    "df_10_enc.Dport = LabelEncoder().fit_transform(df_10_enc.Dport.astype('str'))\n",
    "df_10_enc.State = LabelEncoder().fit_transform(df_10_enc.State.astype('str'))\n",
    "df_10_enc.TotPkts = LabelEncoder().fit_transform(df_10_enc.TotPkts)\n",
    "df_10_enc.TotBytes = LabelEncoder().fit_transform(df_10_enc.TotBytes)\n",
    "df_10_enc.SrcBytes = LabelEncoder().fit_transform(df_10_enc.SrcBytes)\n"
   ]
  },
  {
   "cell_type": "code",
   "execution_count": 68,
   "metadata": {},
   "outputs": [
    {
     "name": "stdout",
     "output_type": "stream",
     "text": [
      "Botnet-ICMP    105977\n",
      "Botnet-UDP        293\n",
      "Botnet-TCP         82\n",
      "Name: MetaLabel, dtype: int64\n"
     ]
    }
   ],
   "source": []
  },
  {
   "cell_type": "code",
   "execution_count": 72,
   "metadata": {},
   "outputs": [
    {
     "name": "stdout",
     "output_type": "stream",
     "text": [
      "Botnet-ICMP    105977\n",
      "Botnet-UDP        293\n",
      "Botnet-TCP         82\n"
     ]
    }
   ],
   "source": [
    "print(df_10_enc.MetaLabel.value_counts().to_string())"
   ]
  },
  {
   "cell_type": "code",
   "execution_count": 17,
   "metadata": {},
   "outputs": [
    {
     "name": "stderr",
     "output_type": "stream",
     "text": [
      "<ipython-input-17-36a56fe13de3>:1: DeprecationWarning: The default dtype for empty Series will be 'object' instead of 'float64' in a future version. Specify a dtype explicitly to silence this warning.\n",
      "  df_10_enc['EncLabel'] = pd.Series()\n",
      "C:\\ProgramData\\Anaconda3\\envs\\lab\\lib\\site-packages\\pandas\\core\\indexing.py:1637: SettingWithCopyWarning: \n",
      "A value is trying to be set on a copy of a slice from a DataFrame\n",
      "\n",
      "See the caveats in the documentation: https://pandas.pydata.org/pandas-docs/stable/user_guide/indexing.html#returning-a-view-versus-a-copy\n",
      "  self._setitem_single_block(indexer, value, name)\n"
     ]
    },
    {
     "data": {
      "text/plain": [
       "0        2\n",
       "1        2\n",
       "2        3\n",
       "3        2\n",
       "4        2\n",
       "        ..\n",
       "11869    3\n",
       "11870    2\n",
       "11871    3\n",
       "11872    2\n",
       "11873    2\n",
       "Name: EncLabel, Length: 11874, dtype: int8"
      ]
     },
     "execution_count": 17,
     "metadata": {},
     "output_type": "execute_result"
    }
   ],
   "source": [
    "df_10_enc['EncLabel'] = pd.Series()\n",
    "# df_10_enc.EncLabel.loc[np.where(df_10_enc.Label.str.contains('Normal'))] = 0\n",
    "df_10_enc.EncLabel.loc[np.where(df_10_enc.Label.str.contains('ICMP'))] = 1\n",
    "df_10_enc.EncLabel.loc[np.where(df_10_enc.Label.str.contains('UDP'))] = 2\n",
    "df_10_enc.EncLabel.loc[np.where(df_10_enc.Label.str.contains('TCP'))] = 3\n",
    "\n",
    "df_10_enc.EncLabel = df_10_enc.EncLabel.astype('int8')\n",
    "df_10_enc.EncLabel"
   ]
  },
  {
   "cell_type": "code",
   "execution_count": 69,
   "metadata": {},
   "outputs": [
    {
     "name": "stdout",
     "output_type": "stream",
     "text": [
      "Botnet-ICMP    105977\n",
      "Botnet-UDP        293\n",
      "Botnet-TCP         82\n",
      "Name: MetaLabel, dtype: int64\n"
     ]
    }
   ],
   "source": [
    "# might not want to blindly encode these:\n",
    "df_10_enc.Label = LabelEncoder().fit_transform(df_10_enc.Label)\n",
    "print(df_10_enc.MetaLabel.value_counts())"
   ]
  },
  {
   "cell_type": "code",
   "execution_count": 68,
   "metadata": {},
   "outputs": [
    {
     "name": "stdout",
     "output_type": "stream",
     "text": [
      "Botnet-ICMP    105977\n",
      "Botnet-UDP        293\n",
      "Botnet-TCP         82\n",
      "Name: MetaLabel, dtype: int64\n"
     ]
    }
   ],
   "source": []
  },
  {
   "cell_type": "code",
   "execution_count": 20,
   "metadata": {},
   "outputs": [
    {
     "data": {
      "text/html": [
       "<div>\n",
       "<style scoped>\n",
       "    .dataframe tbody tr th:only-of-type {\n",
       "        vertical-align: middle;\n",
       "    }\n",
       "\n",
       "    .dataframe tbody tr th {\n",
       "        vertical-align: top;\n",
       "    }\n",
       "\n",
       "    .dataframe thead th {\n",
       "        text-align: right;\n",
       "    }\n",
       "</style>\n",
       "<table border=\"1\" class=\"dataframe\">\n",
       "  <thead>\n",
       "    <tr style=\"text-align: right;\">\n",
       "      <th></th>\n",
       "      <th>index</th>\n",
       "      <th>Dur</th>\n",
       "      <th>Proto</th>\n",
       "      <th>SrcAddr</th>\n",
       "      <th>Sport</th>\n",
       "      <th>Dir</th>\n",
       "      <th>DstAddr</th>\n",
       "      <th>Dport</th>\n",
       "      <th>State</th>\n",
       "      <th>TotPkts</th>\n",
       "      <th>TotBytes</th>\n",
       "      <th>SrcBytes</th>\n",
       "      <th>Label</th>\n",
       "      <th>MetaLabel</th>\n",
       "      <th>EncLabel</th>\n",
       "    </tr>\n",
       "  </thead>\n",
       "  <tbody>\n",
       "    <tr>\n",
       "      <th>0</th>\n",
       "      <td>1473</td>\n",
       "      <td>0.000263</td>\n",
       "      <td>2</td>\n",
       "      <td>0</td>\n",
       "      <td>53</td>\n",
       "      <td>1</td>\n",
       "      <td>0</td>\n",
       "      <td>190</td>\n",
       "      <td>1</td>\n",
       "      <td>1</td>\n",
       "      <td>2</td>\n",
       "      <td>1</td>\n",
       "      <td>5</td>\n",
       "      <td>Botnet-UDP</td>\n",
       "      <td>2</td>\n",
       "    </tr>\n",
       "    <tr>\n",
       "      <th>1</th>\n",
       "      <td>1474</td>\n",
       "      <td>0.000401</td>\n",
       "      <td>2</td>\n",
       "      <td>0</td>\n",
       "      <td>53</td>\n",
       "      <td>1</td>\n",
       "      <td>0</td>\n",
       "      <td>190</td>\n",
       "      <td>1</td>\n",
       "      <td>1</td>\n",
       "      <td>6</td>\n",
       "      <td>4</td>\n",
       "      <td>5</td>\n",
       "      <td>Botnet-UDP</td>\n",
       "      <td>2</td>\n",
       "    </tr>\n",
       "    <tr>\n",
       "      <th>2</th>\n",
       "      <td>1475</td>\n",
       "      <td>0.075763</td>\n",
       "      <td>1</td>\n",
       "      <td>0</td>\n",
       "      <td>57</td>\n",
       "      <td>0</td>\n",
       "      <td>5</td>\n",
       "      <td>221</td>\n",
       "      <td>30</td>\n",
       "      <td>4</td>\n",
       "      <td>7</td>\n",
       "      <td>7</td>\n",
       "      <td>2</td>\n",
       "      <td>Botnet-TCP</td>\n",
       "      <td>3</td>\n",
       "    </tr>\n",
       "    <tr>\n",
       "      <th>3</th>\n",
       "      <td>1478</td>\n",
       "      <td>0.000450</td>\n",
       "      <td>2</td>\n",
       "      <td>0</td>\n",
       "      <td>53</td>\n",
       "      <td>1</td>\n",
       "      <td>0</td>\n",
       "      <td>190</td>\n",
       "      <td>1</td>\n",
       "      <td>1</td>\n",
       "      <td>4</td>\n",
       "      <td>2</td>\n",
       "      <td>5</td>\n",
       "      <td>Botnet-UDP</td>\n",
       "      <td>2</td>\n",
       "    </tr>\n",
       "    <tr>\n",
       "      <th>4</th>\n",
       "      <td>1479</td>\n",
       "      <td>3.017135</td>\n",
       "      <td>2</td>\n",
       "      <td>0</td>\n",
       "      <td>426</td>\n",
       "      <td>0</td>\n",
       "      <td>4</td>\n",
       "      <td>28</td>\n",
       "      <td>7</td>\n",
       "      <td>1</td>\n",
       "      <td>1</td>\n",
       "      <td>5</td>\n",
       "      <td>4</td>\n",
       "      <td>Botnet-UDP</td>\n",
       "      <td>2</td>\n",
       "    </tr>\n",
       "    <tr>\n",
       "      <th>5</th>\n",
       "      <td>1974</td>\n",
       "      <td>0.000465</td>\n",
       "      <td>2</td>\n",
       "      <td>0</td>\n",
       "      <td>53</td>\n",
       "      <td>1</td>\n",
       "      <td>0</td>\n",
       "      <td>190</td>\n",
       "      <td>1</td>\n",
       "      <td>1</td>\n",
       "      <td>5</td>\n",
       "      <td>2</td>\n",
       "      <td>5</td>\n",
       "      <td>Botnet-UDP</td>\n",
       "      <td>2</td>\n",
       "    </tr>\n",
       "    <tr>\n",
       "      <th>6</th>\n",
       "      <td>1975</td>\n",
       "      <td>3570.946045</td>\n",
       "      <td>1</td>\n",
       "      <td>0</td>\n",
       "      <td>68</td>\n",
       "      <td>0</td>\n",
       "      <td>9</td>\n",
       "      <td>205</td>\n",
       "      <td>28</td>\n",
       "      <td>51</td>\n",
       "      <td>33</td>\n",
       "      <td>12</td>\n",
       "      <td>1</td>\n",
       "      <td>Botnet-TCP</td>\n",
       "      <td>3</td>\n",
       "    </tr>\n",
       "    <tr>\n",
       "      <th>7</th>\n",
       "      <td>2492</td>\n",
       "      <td>0.000227</td>\n",
       "      <td>2</td>\n",
       "      <td>0</td>\n",
       "      <td>53</td>\n",
       "      <td>1</td>\n",
       "      <td>0</td>\n",
       "      <td>190</td>\n",
       "      <td>1</td>\n",
       "      <td>1</td>\n",
       "      <td>2</td>\n",
       "      <td>1</td>\n",
       "      <td>5</td>\n",
       "      <td>Botnet-UDP</td>\n",
       "      <td>2</td>\n",
       "    </tr>\n",
       "    <tr>\n",
       "      <th>8</th>\n",
       "      <td>2497</td>\n",
       "      <td>0.000384</td>\n",
       "      <td>2</td>\n",
       "      <td>0</td>\n",
       "      <td>53</td>\n",
       "      <td>1</td>\n",
       "      <td>0</td>\n",
       "      <td>190</td>\n",
       "      <td>1</td>\n",
       "      <td>1</td>\n",
       "      <td>3</td>\n",
       "      <td>3</td>\n",
       "      <td>5</td>\n",
       "      <td>Botnet-UDP</td>\n",
       "      <td>2</td>\n",
       "    </tr>\n",
       "    <tr>\n",
       "      <th>9</th>\n",
       "      <td>2498</td>\n",
       "      <td>60.004951</td>\n",
       "      <td>1</td>\n",
       "      <td>0</td>\n",
       "      <td>72</td>\n",
       "      <td>0</td>\n",
       "      <td>2</td>\n",
       "      <td>221</td>\n",
       "      <td>30</td>\n",
       "      <td>5</td>\n",
       "      <td>9</td>\n",
       "      <td>6</td>\n",
       "      <td>3</td>\n",
       "      <td>Botnet-TCP</td>\n",
       "      <td>3</td>\n",
       "    </tr>\n",
       "  </tbody>\n",
       "</table>\n",
       "</div>"
      ],
      "text/plain": [
       "   index          Dur  Proto  SrcAddr  Sport  Dir  DstAddr  Dport  State  \\\n",
       "0   1473     0.000263      2        0     53    1        0    190      1   \n",
       "1   1474     0.000401      2        0     53    1        0    190      1   \n",
       "2   1475     0.075763      1        0     57    0        5    221     30   \n",
       "3   1478     0.000450      2        0     53    1        0    190      1   \n",
       "4   1479     3.017135      2        0    426    0        4     28      7   \n",
       "5   1974     0.000465      2        0     53    1        0    190      1   \n",
       "6   1975  3570.946045      1        0     68    0        9    205     28   \n",
       "7   2492     0.000227      2        0     53    1        0    190      1   \n",
       "8   2497     0.000384      2        0     53    1        0    190      1   \n",
       "9   2498    60.004951      1        0     72    0        2    221     30   \n",
       "\n",
       "   TotPkts  TotBytes  SrcBytes  Label   MetaLabel  EncLabel  \n",
       "0        1         2         1      5  Botnet-UDP         2  \n",
       "1        1         6         4      5  Botnet-UDP         2  \n",
       "2        4         7         7      2  Botnet-TCP         3  \n",
       "3        1         4         2      5  Botnet-UDP         2  \n",
       "4        1         1         5      4  Botnet-UDP         2  \n",
       "5        1         5         2      5  Botnet-UDP         2  \n",
       "6       51        33        12      1  Botnet-TCP         3  \n",
       "7        1         2         1      5  Botnet-UDP         2  \n",
       "8        1         3         3      5  Botnet-UDP         2  \n",
       "9        5         9         6      3  Botnet-TCP         3  "
      ]
     },
     "execution_count": 20,
     "metadata": {},
     "output_type": "execute_result"
    }
   ],
   "source": [
    "df_10_enc.head(10)"
   ]
  },
  {
   "cell_type": "markdown",
   "metadata": {},
   "source": [
    "### 1a. Plot visualizations - Select and visualize two features for modeling the behavior of the infected host."
   ]
  },
  {
   "cell_type": "code",
   "execution_count": 21,
   "metadata": {},
   "outputs": [
    {
     "data": {
      "text/plain": [
       "Text(0.5, 1.0, 'Correlation heat map')"
      ]
     },
     "execution_count": 21,
     "metadata": {},
     "output_type": "execute_result"
    },
    {
     "data": {
      "image/png": "[encoded data removed]",
      "text/plain": [
       "<Figure size 1080x864 with 2 Axes>"
      ]
     },
     "metadata": {
      "needs_background": "light"
     },
     "output_type": "display_data"
    }
   ],
   "source": [
    "# Let's look at a correlation heatmap to see which are closely associated with target labels\n",
    "fig = plt.figure(figsize=(15,12))\n",
    "sns.heatmap(df_10_enc.corr())\n",
    "plt.title('Correlation heat map', size=20)"
   ]
  },
  {
   "cell_type": "code",
   "execution_count": 73,
   "metadata": {},
   "outputs": [
    {
     "data": {
      "text/plain": [
       "Text(0.5, 1.0, 'Direction (blue) vs. Attack Type (yellow)')"
      ]
     },
     "execution_count": 73,
     "metadata": {},
     "output_type": "execute_result"
    },
    {
     "data": {
      "image/png": "[encoded data removed]",
      "text/plain": [
       "<Figure size 1080x864 with 4 Axes>"
      ]
     },
     "metadata": {
      "needs_background": "light"
     },
     "output_type": "display_data"
    }
   ],
   "source": [
    "fig, (ax1, ax3) = plt.subplots(2,1,figsize=(15,12))\n",
    "\n",
    "\n",
    "ax1.scatter(df_10_enc.index, df_10_enc.Dport, marker='o', alpha=1)\n",
    "ax2 = ax1.twinx()\n",
    "ax1.grid()\n",
    "ax2.scatter(df_10_enc.index, df_10_enc.MetaLabel, marker=\".\", color='orange', alpha=1)\n",
    "# ax1.legend(['Dport'], loc='upper left')\n",
    "# ax2.legend(['Label'], loc='upper right')\n",
    "\n",
    "\n",
    "ax3.scatter(df_10_inf_1.index, df_10_inf_1.Dir, marker='o', alpha=1)\n",
    "ax4 = ax3.twinx()\n",
    "ax3.grid()\n",
    "ax4.scatter(df_10_enc.index, df_10_enc.MetaLabel, marker=\".\", color='orange', alpha=1)\n",
    "# ax3.legend(['TotPkts'], loc='center left')\n",
    "# ax4.legend(['Label'], loc='center right')\n",
    "\n",
    "ax1.set_title('Destination Port (blue) vs. Attack Type (yellow)')\n",
    "ax3.set_title('Direction (blue) vs. Attack Type (yellow)')\n",
    "\n"
   ]
  },
  {
   "cell_type": "markdown",
   "metadata": {},
   "source": [
    "### 1b. Discretize selected features"
   ]
  },
  {
   "cell_type": "markdown",
   "metadata": {},
   "source": [
    "As we see above, `Protocol` is most directly correlated with the encoded label. However, this is largely because `EncLabel` is a feature derived from `Protocol`, so we ignore it. Furthermore, the vast majority (>99%) of the values in `Proto` are `ICMP`, so the data is incredibly unbalanced.\n",
    "\n",
    "The next highest correlation is `DstAddr`. Now, attackers can theoretically choose any target as a victim, so filtering destinations likely won't help us with a general model. \n",
    "\n",
    "Following that, the next highest correlation is `Dport`, but the vast majority of the dataset has been backfilled to `0` because most of the Dport values were `NaN`. This means that `Dir` and `TotPkts` are the next 2 most correlated features to the target labels."
   ]
  },
  {
   "cell_type": "code",
   "execution_count": 23,
   "metadata": {},
   "outputs": [
    {
     "data": {
      "text/plain": [
       "Text(0.5, 1.0, 'Direction value counts (log scale)')"
      ]
     },
     "execution_count": 23,
     "metadata": {},
     "output_type": "execute_result"
    },
    {
     "data": {
      "image/png": "[encoded data removed]",
      "text/plain": [
       "<Figure size 1152x432 with 1 Axes>"
      ]
     },
     "metadata": {
      "needs_background": "light"
     },
     "output_type": "display_data"
    }
   ],
   "source": [
    "# Let's see the distribution of each encoded port:\n",
    "fig = plt.figure(figsize=(16,6))\n",
    "plt.yscale('log')\n",
    "plt.scatter(df_10_enc.Dir.value_counts().sort_index().index.values, df_10_enc.Dir.value_counts().sort_index())\n",
    "plt.ylabel('Number of examples')\n",
    "plt.xlabel('Direction # (encoded)')\n",
    "plt.title('Direction value counts (log scale)')"
   ]
  },
  {
   "cell_type": "markdown",
   "metadata": {},
   "source": [
    "We see above that `DstAddr = 1` has far more attacks against it than any other port from this specific host."
   ]
  },
  {
   "cell_type": "code",
   "execution_count": 24,
   "metadata": {},
   "outputs": [
    {
     "data": {
      "text/plain": [
       "Text(0.5, 1.0, 'Total number of packets value counts (log scale)')"
      ]
     },
     "execution_count": 24,
     "metadata": {},
     "output_type": "execute_result"
    },
    {
     "data": {
      "image/png": "[encoded data removed]",
      "text/plain": [
       "<Figure size 1152x432 with 1 Axes>"
      ]
     },
     "metadata": {
      "needs_background": "light"
     },
     "output_type": "display_data"
    }
   ],
   "source": [
    "# Let's see the distribution of each encoded port:\n",
    "fig = plt.figure(figsize=(16,6))\n",
    "plt.yscale('log')\n",
    "# sorted_counts = np.sort(df_10_enc.Dport.value_counts().index)\n",
    "plt.scatter(df_10_enc.TotPkts.value_counts().sort_index().index.values, df_10_enc.TotPkts.value_counts().sort_index())\n",
    "plt.ylabel('Number of attacks')\n",
    "plt.xlabel('Destination Port # (encoded)')\n",
    "plt.title('Total number of packets value counts (log scale)')"
   ]
  },
  {
   "cell_type": "code",
   "execution_count": 25,
   "metadata": {},
   "outputs": [
    {
     "data": {
      "text/plain": [
       "0     10793\n",
       "1       540\n",
       "11       33\n",
       "15       27\n",
       "12       22\n",
       "      ...  \n",
       "59        1\n",
       "52        1\n",
       "60        1\n",
       "68        1\n",
       "71        1\n",
       "Name: DTP, Length: 73, dtype: int64"
      ]
     },
     "execution_count": 25,
     "metadata": {},
     "output_type": "execute_result"
    }
   ],
   "source": [
    "# We can see that Dport and Dir are the two most outstanding features with the Metalabel w.r.t. botnet behavior\n",
    "# Let's combine these with the encoded labels\n",
    "\n",
    "df_10_enc['DTP'] = df_10_enc.Dir.astype('str') + df_10_enc.TotPkts.astype('str')\n",
    "df_10_enc.DTP = df_10_enc.DTP.astype('int32')\n",
    "df_10_x = pd.concat([df_10_enc.DTP, df_10_enc.MetaLabel, df_10_enc.EncLabel], axis=1)\n",
    "\n",
    "df_10_x.DTP.value_counts()"
   ]
  },
  {
   "cell_type": "code",
   "execution_count": 26,
   "metadata": {},
   "outputs": [
    {
     "name": "stderr",
     "output_type": "stream",
     "text": [
      "C:\\ProgramData\\Anaconda3\\envs\\lab\\lib\\site-packages\\pandas\\core\\indexing.py:1637: SettingWithCopyWarning: \n",
      "A value is trying to be set on a copy of a slice from a DataFrame\n",
      "\n",
      "See the caveats in the documentation: https://pandas.pydata.org/pandas-docs/stable/user_guide/indexing.html#returning-a-view-versus-a-copy\n",
      "  self._setitem_single_block(indexer, value, name)\n",
      "C:\\ProgramData\\Anaconda3\\envs\\lab\\lib\\site-packages\\pandas\\core\\indexing.py:1637: SettingWithCopyWarning: \n",
      "A value is trying to be set on a copy of a slice from a DataFrame\n",
      "\n",
      "See the caveats in the documentation: https://pandas.pydata.org/pandas-docs/stable/user_guide/indexing.html#returning-a-view-versus-a-copy\n",
      "  self._setitem_single_block(indexer, value, name)\n",
      "C:\\ProgramData\\Anaconda3\\envs\\lab\\lib\\site-packages\\pandas\\core\\indexing.py:1637: SettingWithCopyWarning: \n",
      "A value is trying to be set on a copy of a slice from a DataFrame\n",
      "\n",
      "See the caveats in the documentation: https://pandas.pydata.org/pandas-docs/stable/user_guide/indexing.html#returning-a-view-versus-a-copy\n",
      "  self._setitem_single_block(indexer, value, name)\n"
     ]
    },
    {
     "data": {
      "text/plain": [
       "DTP  MetaLabel    EncLabel\n",
       "0    Botnet-ICMP  1           10790\n",
       "1    Botnet-ICMP  1             537\n",
       "2    Botnet-ICMP  1             509\n",
       "     Botnet-UDP   2              24\n",
       "     Botnet-TCP   3               8\n",
       "0    Botnet-UDP   2               3\n",
       "1    Botnet-UDP   2               3\n",
       "dtype: int64"
      ]
     },
     "execution_count": 26,
     "metadata": {},
     "output_type": "execute_result"
    }
   ],
   "source": [
    "# Let's bin the values into 3 categories:\n",
    "# '0' for the values where Dir and TotPkts = 0\n",
    "# '1' for the values where Dir and TotPkts = 1\n",
    "# '2' for the values where Dir and TotPkts > 1\n",
    "\n",
    "\n",
    "df_10_x.DTP.loc[np.where(df_10_x.DTP == 0)] = 0\n",
    "df_10_x.DTP.loc[np.where(df_10_x.DTP == 1)] = 1\n",
    "df_10_x.DTP.loc[np.where(df_10_x.DTP > 1)] = 2\n",
    "\n",
    "df_10_x.value_counts()"
   ]
  },
  {
   "cell_type": "markdown",
   "metadata": {},
   "source": [
    "### 1b. Answers and explanation"
   ]
  },
  {
   "cell_type": "markdown",
   "metadata": {},
   "source": [
    "Going off of correlation, many of the attributes with high correlation to attack labels are those that are difficult to generalize, e.g. `DstAddr` which are circumstantial, and `Dport` which was largely `NaN` and needed to be ignored. Therefore, we combined the attributes `Dir` and `TotPkts`, and binned them into three categories: `0`, `1`, and `2`.\n"
   ]
  },
  {
   "cell_type": "code",
   "execution_count": null,
   "metadata": {},
   "outputs": [],
   "source": []
  },
  {
   "cell_type": "code",
   "execution_count": null,
   "metadata": {},
   "outputs": [],
   "source": []
  },
  {
   "cell_type": "markdown",
   "metadata": {},
   "source": [
    "## 2. Frequent task – 1/2 A4 (Individual)"
   ]
  },
  {
   "cell_type": "markdown",
   "metadata": {},
   "source": [
    "### 2a. Use the SPACE SAVING algorithm"
   ]
  },
  {
   "cell_type": "code",
   "execution_count": null,
   "metadata": {},
   "outputs": [],
   "source": []
  },
  {
   "cell_type": "markdown",
   "metadata": {},
   "source": [
    "### 2b. Analysis and answers to the questions"
   ]
  },
  {
   "cell_type": "code",
   "execution_count": null,
   "metadata": {},
   "outputs": [],
   "source": []
  },
  {
   "cell_type": "markdown",
   "metadata": {},
   "source": [
    "## 3. Sketching task – 1/2 A4 (Individual) (Andrew)"
   ]
  },
  {
   "cell_type": "markdown",
   "metadata": {},
   "source": [
    "### 3a. COUNT-MIN sketch\n"
   ]
  },
  {
   "cell_type": "code",
   "execution_count": 27,
   "metadata": {},
   "outputs": [
    {
     "data": {
      "text/plain": [
       "b'Q\\xe8\\xea(\\x0bD\\xe1i4\\xd4\\xd6\\x11\\x90\\x1f=:\\xfcAx\\x98@\\xac\\xdf\\xf8\\x19B\\xc2\\xf6P\\t\\xcdR'"
      ]
     },
     "execution_count": 27,
     "metadata": {},
     "output_type": "execute_result"
    }
   ],
   "source": [
    "sha = hashlib.sha256()\n",
    "sha.update(b\"256\")\n",
    "sha.digest()"
   ]
  },
  {
   "cell_type": "markdown",
   "metadata": {},
   "source": [
    "### 3b. Analysis and answers to the questions"
   ]
  },
  {
   "cell_type": "code",
   "execution_count": null,
   "metadata": {},
   "outputs": [],
   "source": []
  },
  {
   "cell_type": "markdown",
   "metadata": {},
   "source": [
    "## 4. Min-wise locality sensitive hashing task – 1/2 A4 (Individual)"
   ]
  },
  {
   "cell_type": "markdown",
   "metadata": {},
   "source": [
    "### 4a. Implementation"
   ]
  },
  {
   "cell_type": "code",
   "execution_count": null,
   "metadata": {},
   "outputs": [],
   "source": []
  },
  {
   "cell_type": "markdown",
   "metadata": {},
   "source": [
    "### 4b. Analysis and answers to the questions"
   ]
  },
  {
   "cell_type": "code",
   "execution_count": null,
   "metadata": {},
   "outputs": [],
   "source": []
  },
  {
   "cell_type": "markdown",
   "metadata": {},
   "source": [
    "## 5. Random hyperplane locality sensitive hashing task – 1/2 A4 (Individual) (Andrew)"
   ]
  },
  {
   "cell_type": "markdown",
   "metadata": {},
   "source": [
    "### 5a. Implementation - locality sensitive hashing"
   ]
  },
  {
   "cell_type": "code",
   "execution_count": null,
   "metadata": {},
   "outputs": [],
   "source": []
  },
  {
   "cell_type": "markdown",
   "metadata": {},
   "source": [
    "### 5b. Analysis and answers to the questions. Also provide relevant plots."
   ]
  },
  {
   "cell_type": "code",
   "execution_count": null,
   "metadata": {},
   "outputs": [],
   "source": []
  },
  {
   "cell_type": "markdown",
   "metadata": {},
   "source": [
    "## 6.Botnet profiling task – 1/2 A4"
   ]
  },
  {
   "cell_type": "code",
   "execution_count": 62,
   "metadata": {},
   "outputs": [
    {
     "name": "stderr",
     "output_type": "stream",
     "text": [
      "<ipython-input-62-9c942b2d8fe3>:26: DeprecationWarning: The default dtype for empty Series will be 'object' instead of 'float64' in a future version. Specify a dtype explicitly to silence this warning.\n",
      "  df_9['MetaLabel'] = pd.Series()\n",
      "C:\\ProgramData\\Anaconda3\\envs\\lab\\lib\\site-packages\\pandas\\core\\indexing.py:1637: SettingWithCopyWarning: \n",
      "A value is trying to be set on a copy of a slice from a DataFrame\n",
      "\n",
      "See the caveats in the documentation: https://pandas.pydata.org/pandas-docs/stable/user_guide/indexing.html#returning-a-view-versus-a-copy\n",
      "  self._setitem_single_block(indexer, value, name)\n",
      "<ipython-input-62-9c942b2d8fe3>:47: DeprecationWarning: The default dtype for empty Series will be 'object' instead of 'float64' in a future version. Specify a dtype explicitly to silence this warning.\n",
      "  df_9_enc['EncLabel'] = pd.Series()\n"
     ]
    },
    {
     "data": {
      "text/html": [
       "<div>\n",
       "<style scoped>\n",
       "    .dataframe tbody tr th:only-of-type {\n",
       "        vertical-align: middle;\n",
       "    }\n",
       "\n",
       "    .dataframe tbody tr th {\n",
       "        vertical-align: top;\n",
       "    }\n",
       "\n",
       "    .dataframe thead th {\n",
       "        text-align: right;\n",
       "    }\n",
       "</style>\n",
       "<table border=\"1\" class=\"dataframe\">\n",
       "  <thead>\n",
       "    <tr style=\"text-align: right;\">\n",
       "      <th></th>\n",
       "      <th>SrcAddr</th>\n",
       "      <th>DTP</th>\n",
       "      <th>MetaLabel</th>\n",
       "      <th>EncLabel</th>\n",
       "    </tr>\n",
       "  </thead>\n",
       "  <tbody>\n",
       "    <tr>\n",
       "      <th>0</th>\n",
       "      <td>0</td>\n",
       "      <td>11</td>\n",
       "      <td>Botnet-UDP</td>\n",
       "      <td>2</td>\n",
       "    </tr>\n",
       "    <tr>\n",
       "      <th>1</th>\n",
       "      <td>0</td>\n",
       "      <td>11</td>\n",
       "      <td>Botnet-UDP</td>\n",
       "      <td>2</td>\n",
       "    </tr>\n",
       "    <tr>\n",
       "      <th>2</th>\n",
       "      <td>0</td>\n",
       "      <td>6</td>\n",
       "      <td>Botnet-TCP</td>\n",
       "      <td>3</td>\n",
       "    </tr>\n",
       "    <tr>\n",
       "      <th>3</th>\n",
       "      <td>0</td>\n",
       "      <td>11</td>\n",
       "      <td>Botnet-UDP</td>\n",
       "      <td>2</td>\n",
       "    </tr>\n",
       "    <tr>\n",
       "      <th>4</th>\n",
       "      <td>0</td>\n",
       "      <td>1</td>\n",
       "      <td>Botnet-UDP</td>\n",
       "      <td>2</td>\n",
       "    </tr>\n",
       "    <tr>\n",
       "      <th>...</th>\n",
       "      <td>...</td>\n",
       "      <td>...</td>\n",
       "      <td>...</td>\n",
       "      <td>...</td>\n",
       "    </tr>\n",
       "    <tr>\n",
       "      <th>184982</th>\n",
       "      <td>6</td>\n",
       "      <td>11</td>\n",
       "      <td>Botnet-UDP</td>\n",
       "      <td>2</td>\n",
       "    </tr>\n",
       "    <tr>\n",
       "      <th>184983</th>\n",
       "      <td>6</td>\n",
       "      <td>11</td>\n",
       "      <td>Botnet-UDP</td>\n",
       "      <td>2</td>\n",
       "    </tr>\n",
       "    <tr>\n",
       "      <th>184984</th>\n",
       "      <td>6</td>\n",
       "      <td>11</td>\n",
       "      <td>Botnet-UDP</td>\n",
       "      <td>2</td>\n",
       "    </tr>\n",
       "    <tr>\n",
       "      <th>184985</th>\n",
       "      <td>6</td>\n",
       "      <td>11</td>\n",
       "      <td>Botnet-UDP</td>\n",
       "      <td>2</td>\n",
       "    </tr>\n",
       "    <tr>\n",
       "      <th>184986</th>\n",
       "      <td>6</td>\n",
       "      <td>0</td>\n",
       "      <td>Botnet-TCP</td>\n",
       "      <td>3</td>\n",
       "    </tr>\n",
       "  </tbody>\n",
       "</table>\n",
       "<p>184987 rows × 4 columns</p>\n",
       "</div>"
      ],
      "text/plain": [
       "        SrcAddr  DTP   MetaLabel  EncLabel\n",
       "0             0   11  Botnet-UDP         2\n",
       "1             0   11  Botnet-UDP         2\n",
       "2             0    6  Botnet-TCP         3\n",
       "3             0   11  Botnet-UDP         2\n",
       "4             0    1  Botnet-UDP         2\n",
       "...         ...  ...         ...       ...\n",
       "184982        6   11  Botnet-UDP         2\n",
       "184983        6   11  Botnet-UDP         2\n",
       "184984        6   11  Botnet-UDP         2\n",
       "184985        6   11  Botnet-UDP         2\n",
       "184986        6    0  Botnet-TCP         3\n",
       "\n",
       "[184987 rows x 4 columns]"
      ]
     },
     "execution_count": 62,
     "metadata": {},
     "output_type": "execute_result"
    }
   ],
   "source": [
    "# We need all the datasets\n",
    "\n",
    "df_9 = pd.read_csv('./dataset_9/capture20110817.binetflow')\n",
    "\n",
    "\n",
    "# Engineer the data for each (the same way we did for df_9)\n",
    "df_9.drop(\"StartTime\", axis=1, inplace=True) # Every value is different, time likely not an important factor\n",
    "df_9.drop(index=np.where(df_9['Label'].str.contains(\"Background\"))[0], inplace=True) # drop background traffic\n",
    "df_9.drop([\"sTos\", \"dTos\"], axis=1, inplace=True) # only contains 1 value, and NaN\n",
    "df_9.reset_index(drop=True, inplace=True)\n",
    "\n",
    "# Fill the NaN values (ICMP packets are transport-layer, so they don't have a port number. Set the ports = 0)\n",
    "df_9.Sport.fillna(value=0, inplace=True) # set the NaN port = 0\n",
    "df_9.Dport.fillna(value=0, inplace=True) # set the NaN port = 0\n",
    "df_9.State.fillna(value=\"OTHER\", inplace=True) # Set the state to OTHER\n",
    "\n",
    "\n",
    "df_9.Dport = df_9.Dport.astype('str')\n",
    "df_9.Sport = df_9.Sport.astype('str')\n",
    "df_9.Dport = df_9.Dport.apply(lambda x: int(str(x), 0))\n",
    "df_9.Sport = df_9.Sport.apply(lambda x: int(str(x), 0))\n",
    "\n",
    "\n",
    "\n",
    "# Let's create a meta-label attribute for each protocol type for botnet activity\n",
    "df_9['MetaLabel'] = pd.Series()\n",
    "df_9.MetaLabel.loc[np.where(df_9.Label.str.contains('ICMP'))] = 'Botnet-ICMP'\n",
    "df_9.MetaLabel.loc[np.where(df_9.Label.str.contains('UDP'))] = 'Botnet-UDP'\n",
    "df_9.MetaLabel.loc[np.where(df_9.Label.str.contains('TCP'))] = 'Botnet-TCP'\n",
    "\n",
    "\n",
    "df_9_inf = df_9.loc[np.where(df_9.Label.str.contains('Botnet'))].reset_index(inplace=False)\n",
    "\n",
    "df_9_enc = df_9_inf.copy()\n",
    "# df_9_enc.Dur = LabelEncoder().fit_transform(df_9_enc.Dur)\n",
    "df_9_enc.Proto = LabelEncoder().fit_transform(df_9_enc.Proto)\n",
    "df_9_enc.SrcAddr = LabelEncoder().fit_transform(df_9_enc.SrcAddr)\n",
    "df_9_enc.Sport = LabelEncoder().fit_transform(df_9_enc.Sport.astype('str'))\n",
    "df_9_enc.Dir = LabelEncoder().fit_transform(df_9_enc.Dir)\n",
    "df_9_enc.DstAddr = LabelEncoder().fit_transform(df_9_enc.DstAddr.astype('str'))\n",
    "df_9_enc.Dport = LabelEncoder().fit_transform(df_9_enc.Dport.astype('str'))\n",
    "df_9_enc.State = LabelEncoder().fit_transform(df_9_enc.State.astype('str'))\n",
    "df_9_enc.TotPkts = LabelEncoder().fit_transform(df_9_enc.TotPkts)\n",
    "df_9_enc.TotBytes = LabelEncoder().fit_transform(df_9_enc.TotBytes)\n",
    "df_9_enc.SrcBytes = LabelEncoder().fit_transform(df_9_enc.SrcBytes)\n",
    "\n",
    "df_9_enc['EncLabel'] = pd.Series()\n",
    "df_9_enc.EncLabel.loc[np.where(df_9_enc.Label.str.contains('ICMP'))] = 1\n",
    "df_9_enc.EncLabel.loc[np.where(df_9_enc.Label.str.contains('UDP'))] = 2\n",
    "df_9_enc.EncLabel.loc[np.where(df_9_enc.Label.str.contains('TCP'))] = 3\n",
    "df_9_enc.EncLabel = df_9_enc.EncLabel.astype('int8')\n",
    "\n",
    "\n",
    "df_9_enc['DTP'] = df_9_enc.Dir.astype('str') + df_9_enc.TotPkts.astype('str')\n",
    "df_9_enc.DTP = df_9_enc.DTP.astype('int32')\n",
    "df_9_x = pd.concat([df_9_enc.SrcAddr, df_9_enc.DTP, df_9_enc.MetaLabel, df_9_enc.EncLabel], axis=1)\n",
    "\n",
    "\n",
    "df_9_x"
   ]
  },
  {
   "cell_type": "code",
   "execution_count": 63,
   "metadata": {},
   "outputs": [
    {
     "name": "stderr",
     "output_type": "stream",
     "text": [
      "<ipython-input-63-35d89ae3e7b9>:25: DeprecationWarning: The default dtype for empty Series will be 'object' instead of 'float64' in a future version. Specify a dtype explicitly to silence this warning.\n",
      "  df_10['MetaLabel'] = pd.Series()\n",
      "C:\\ProgramData\\Anaconda3\\envs\\lab\\lib\\site-packages\\pandas\\core\\indexing.py:1637: SettingWithCopyWarning: \n",
      "A value is trying to be set on a copy of a slice from a DataFrame\n",
      "\n",
      "See the caveats in the documentation: https://pandas.pydata.org/pandas-docs/stable/user_guide/indexing.html#returning-a-view-versus-a-copy\n",
      "  self._setitem_single_block(indexer, value, name)\n",
      "<ipython-input-63-35d89ae3e7b9>:46: DeprecationWarning: The default dtype for empty Series will be 'object' instead of 'float64' in a future version. Specify a dtype explicitly to silence this warning.\n",
      "  df_10_enc['EncLabel'] = pd.Series()\n"
     ]
    },
    {
     "data": {
      "text/html": [
       "<div>\n",
       "<style scoped>\n",
       "    .dataframe tbody tr th:only-of-type {\n",
       "        vertical-align: middle;\n",
       "    }\n",
       "\n",
       "    .dataframe tbody tr th {\n",
       "        vertical-align: top;\n",
       "    }\n",
       "\n",
       "    .dataframe thead th {\n",
       "        text-align: right;\n",
       "    }\n",
       "</style>\n",
       "<table border=\"1\" class=\"dataframe\">\n",
       "  <thead>\n",
       "    <tr style=\"text-align: right;\">\n",
       "      <th></th>\n",
       "      <th>SrcAddr</th>\n",
       "      <th>DTP</th>\n",
       "      <th>MetaLabel</th>\n",
       "      <th>EncLabel</th>\n",
       "    </tr>\n",
       "  </thead>\n",
       "  <tbody>\n",
       "    <tr>\n",
       "      <th>0</th>\n",
       "      <td>0</td>\n",
       "      <td>11</td>\n",
       "      <td>Botnet-UDP</td>\n",
       "      <td>2</td>\n",
       "    </tr>\n",
       "    <tr>\n",
       "      <th>1</th>\n",
       "      <td>0</td>\n",
       "      <td>11</td>\n",
       "      <td>Botnet-UDP</td>\n",
       "      <td>2</td>\n",
       "    </tr>\n",
       "    <tr>\n",
       "      <th>2</th>\n",
       "      <td>0</td>\n",
       "      <td>6</td>\n",
       "      <td>Botnet-TCP</td>\n",
       "      <td>3</td>\n",
       "    </tr>\n",
       "    <tr>\n",
       "      <th>3</th>\n",
       "      <td>0</td>\n",
       "      <td>11</td>\n",
       "      <td>Botnet-UDP</td>\n",
       "      <td>2</td>\n",
       "    </tr>\n",
       "    <tr>\n",
       "      <th>4</th>\n",
       "      <td>0</td>\n",
       "      <td>3</td>\n",
       "      <td>Botnet-UDP</td>\n",
       "      <td>2</td>\n",
       "    </tr>\n",
       "    <tr>\n",
       "      <th>...</th>\n",
       "      <td>...</td>\n",
       "      <td>...</td>\n",
       "      <td>...</td>\n",
       "      <td>...</td>\n",
       "    </tr>\n",
       "    <tr>\n",
       "      <th>106347</th>\n",
       "      <td>0</td>\n",
       "      <td>0</td>\n",
       "      <td>Botnet-ICMP</td>\n",
       "      <td>1</td>\n",
       "    </tr>\n",
       "    <tr>\n",
       "      <th>106348</th>\n",
       "      <td>7</td>\n",
       "      <td>11</td>\n",
       "      <td>Botnet-UDP</td>\n",
       "      <td>2</td>\n",
       "    </tr>\n",
       "    <tr>\n",
       "      <th>106349</th>\n",
       "      <td>7</td>\n",
       "      <td>8</td>\n",
       "      <td>Botnet-TCP</td>\n",
       "      <td>3</td>\n",
       "    </tr>\n",
       "    <tr>\n",
       "      <th>106350</th>\n",
       "      <td>0</td>\n",
       "      <td>11</td>\n",
       "      <td>Botnet-UDP</td>\n",
       "      <td>2</td>\n",
       "    </tr>\n",
       "    <tr>\n",
       "      <th>106351</th>\n",
       "      <td>0</td>\n",
       "      <td>6</td>\n",
       "      <td>Botnet-TCP</td>\n",
       "      <td>3</td>\n",
       "    </tr>\n",
       "  </tbody>\n",
       "</table>\n",
       "<p>106352 rows × 4 columns</p>\n",
       "</div>"
      ],
      "text/plain": [
       "        SrcAddr  DTP    MetaLabel  EncLabel\n",
       "0             0   11   Botnet-UDP         2\n",
       "1             0   11   Botnet-UDP         2\n",
       "2             0    6   Botnet-TCP         3\n",
       "3             0   11   Botnet-UDP         2\n",
       "4             0    3   Botnet-UDP         2\n",
       "...         ...  ...          ...       ...\n",
       "106347        0    0  Botnet-ICMP         1\n",
       "106348        7   11   Botnet-UDP         2\n",
       "106349        7    8   Botnet-TCP         3\n",
       "106350        0   11   Botnet-UDP         2\n",
       "106351        0    6   Botnet-TCP         3\n",
       "\n",
       "[106352 rows x 4 columns]"
      ]
     },
     "execution_count": 63,
     "metadata": {},
     "output_type": "execute_result"
    }
   ],
   "source": [
    "# We need all the datasets\n",
    "\n",
    "df_10 = pd.read_csv('./dataset_10/capture20110818.binetflow')\n",
    "\n",
    "# Engineer the data for each (the same way we did for df_10)\n",
    "df_10.drop(\"StartTime\", axis=1, inplace=True) # Every value is different, time likely not an important factor\n",
    "df_10.drop(index=np.where(df_10['Label'].str.contains(\"Background\"))[0], inplace=True) # drop background traffic\n",
    "df_10.drop([\"sTos\", \"dTos\"], axis=1, inplace=True) # only contains 1 value, and NaN\n",
    "df_10.reset_index(drop=True, inplace=True)\n",
    "\n",
    "# Fill the NaN values (ICMP packets are transport-layer, so they don't have a port number. Set the ports = 0)\n",
    "df_10.Sport.fillna(value=0, inplace=True) # set the NaN port = 0\n",
    "df_10.Dport.fillna(value=0, inplace=True) # set the NaN port = 0\n",
    "df_10.State.fillna(value=\"OTHER\", inplace=True) # Set the state to OTHER\n",
    "\n",
    "\n",
    "df_10.Dport = df_10.Dport.astype('str')\n",
    "df_10.Sport = df_10.Sport.astype('str')\n",
    "df_10.Dport = df_10.Dport.apply(lambda x: int(str(x), 0))\n",
    "df_10.Sport = df_10.Sport.apply(lambda x: int(str(x), 0))\n",
    "\n",
    "\n",
    "\n",
    "# Let's create a meta-label attribute for each protocol type for botnet activity\n",
    "df_10['MetaLabel'] = pd.Series()\n",
    "df_10.MetaLabel.loc[np.where(df_10.Label.str.contains('ICMP'))] = 'Botnet-ICMP'\n",
    "df_10.MetaLabel.loc[np.where(df_10.Label.str.contains('UDP'))] = 'Botnet-UDP'\n",
    "df_10.MetaLabel.loc[np.where(df_10.Label.str.contains('TCP'))] = 'Botnet-TCP'\n",
    "\n",
    "\n",
    "df_10_inf = df_10.loc[np.where(df_10.Label.str.contains('Botnet'))].reset_index(inplace=False)\n",
    "\n",
    "df_10_enc = df_10_inf.copy()\n",
    "# df_10_enc.Dur = LabelEncoder().fit_transform(df_10_enc.Dur)\n",
    "df_10_enc.Proto = LabelEncoder().fit_transform(df_10_enc.Proto)\n",
    "df_10_enc.SrcAddr = LabelEncoder().fit_transform(df_10_enc.SrcAddr)\n",
    "df_10_enc.Sport = LabelEncoder().fit_transform(df_10_enc.Sport.astype('str'))\n",
    "df_10_enc.Dir = LabelEncoder().fit_transform(df_10_enc.Dir)\n",
    "df_10_enc.DstAddr = LabelEncoder().fit_transform(df_10_enc.DstAddr.astype('str'))\n",
    "df_10_enc.Dport = LabelEncoder().fit_transform(df_10_enc.Dport.astype('str'))\n",
    "df_10_enc.State = LabelEncoder().fit_transform(df_10_enc.State.astype('str'))\n",
    "df_10_enc.TotPkts = LabelEncoder().fit_transform(df_10_enc.TotPkts)\n",
    "df_10_enc.TotBytes = LabelEncoder().fit_transform(df_10_enc.TotBytes)\n",
    "df_10_enc.SrcBytes = LabelEncoder().fit_transform(df_10_enc.SrcBytes)\n",
    "\n",
    "df_10_enc['EncLabel'] = pd.Series()\n",
    "df_10_enc.EncLabel.loc[np.where(df_10_enc.Label.str.contains('ICMP'))] = 1\n",
    "df_10_enc.EncLabel.loc[np.where(df_10_enc.Label.str.contains('UDP'))] = 2\n",
    "df_10_enc.EncLabel.loc[np.where(df_10_enc.Label.str.contains('TCP'))] = 3\n",
    "df_10_enc.EncLabel = df_10_enc.EncLabel.astype('int8')\n",
    "\n",
    "\n",
    "df_10_enc['DTP'] = df_10_enc.Dir.astype('str') + df_10_enc.TotPkts.astype('str')\n",
    "df_10_enc.DTP = df_10_enc.DTP.astype('int32')\n",
    "df_10_x = pd.concat([df_10_enc.SrcAddr, df_10_enc.DTP, df_10_enc.MetaLabel, df_10_enc.EncLabel], axis=1)\n",
    "\n",
    "\n",
    "df_10_x"
   ]
  },
  {
   "cell_type": "code",
   "execution_count": 64,
   "metadata": {},
   "outputs": [
    {
     "name": "stderr",
     "output_type": "stream",
     "text": [
      "<ipython-input-64-2ae05d24277b>:25: DeprecationWarning: The default dtype for empty Series will be 'object' instead of 'float64' in a future version. Specify a dtype explicitly to silence this warning.\n",
      "  df_11['MetaLabel'] = pd.Series()\n",
      "C:\\ProgramData\\Anaconda3\\envs\\lab\\lib\\site-packages\\pandas\\core\\indexing.py:1637: SettingWithCopyWarning: \n",
      "A value is trying to be set on a copy of a slice from a DataFrame\n",
      "\n",
      "See the caveats in the documentation: https://pandas.pydata.org/pandas-docs/stable/user_guide/indexing.html#returning-a-view-versus-a-copy\n",
      "  self._setitem_single_block(indexer, value, name)\n",
      "<ipython-input-64-2ae05d24277b>:46: DeprecationWarning: The default dtype for empty Series will be 'object' instead of 'float64' in a future version. Specify a dtype explicitly to silence this warning.\n",
      "  df_11_enc['EncLabel'] = pd.Series()\n"
     ]
    },
    {
     "data": {
      "text/html": [
       "<div>\n",
       "<style scoped>\n",
       "    .dataframe tbody tr th:only-of-type {\n",
       "        vertical-align: middle;\n",
       "    }\n",
       "\n",
       "    .dataframe tbody tr th {\n",
       "        vertical-align: top;\n",
       "    }\n",
       "\n",
       "    .dataframe thead th {\n",
       "        text-align: right;\n",
       "    }\n",
       "</style>\n",
       "<table border=\"1\" class=\"dataframe\">\n",
       "  <thead>\n",
       "    <tr style=\"text-align: right;\">\n",
       "      <th></th>\n",
       "      <th>SrcAddr</th>\n",
       "      <th>DTP</th>\n",
       "      <th>MetaLabel</th>\n",
       "      <th>EncLabel</th>\n",
       "    </tr>\n",
       "  </thead>\n",
       "  <tbody>\n",
       "    <tr>\n",
       "      <th>0</th>\n",
       "      <td>0</td>\n",
       "      <td>11</td>\n",
       "      <td>Botnet-UDP</td>\n",
       "      <td>2</td>\n",
       "    </tr>\n",
       "    <tr>\n",
       "      <th>1</th>\n",
       "      <td>0</td>\n",
       "      <td>11</td>\n",
       "      <td>Botnet-UDP</td>\n",
       "      <td>2</td>\n",
       "    </tr>\n",
       "    <tr>\n",
       "      <th>2</th>\n",
       "      <td>0</td>\n",
       "      <td>4</td>\n",
       "      <td>Botnet-TCP</td>\n",
       "      <td>3</td>\n",
       "    </tr>\n",
       "    <tr>\n",
       "      <th>3</th>\n",
       "      <td>0</td>\n",
       "      <td>11</td>\n",
       "      <td>Botnet-UDP</td>\n",
       "      <td>2</td>\n",
       "    </tr>\n",
       "    <tr>\n",
       "      <th>4</th>\n",
       "      <td>0</td>\n",
       "      <td>1</td>\n",
       "      <td>Botnet-UDP</td>\n",
       "      <td>2</td>\n",
       "    </tr>\n",
       "    <tr>\n",
       "      <th>...</th>\n",
       "      <td>...</td>\n",
       "      <td>...</td>\n",
       "      <td>...</td>\n",
       "      <td>...</td>\n",
       "    </tr>\n",
       "    <tr>\n",
       "      <th>8159</th>\n",
       "      <td>0</td>\n",
       "      <td>0</td>\n",
       "      <td>Botnet-ICMP</td>\n",
       "      <td>1</td>\n",
       "    </tr>\n",
       "    <tr>\n",
       "      <th>8160</th>\n",
       "      <td>0</td>\n",
       "      <td>0</td>\n",
       "      <td>Botnet-ICMP</td>\n",
       "      <td>1</td>\n",
       "    </tr>\n",
       "    <tr>\n",
       "      <th>8161</th>\n",
       "      <td>0</td>\n",
       "      <td>0</td>\n",
       "      <td>Botnet-ICMP</td>\n",
       "      <td>1</td>\n",
       "    </tr>\n",
       "    <tr>\n",
       "      <th>8162</th>\n",
       "      <td>0</td>\n",
       "      <td>0</td>\n",
       "      <td>Botnet-ICMP</td>\n",
       "      <td>1</td>\n",
       "    </tr>\n",
       "    <tr>\n",
       "      <th>8163</th>\n",
       "      <td>0</td>\n",
       "      <td>0</td>\n",
       "      <td>Botnet-ICMP</td>\n",
       "      <td>1</td>\n",
       "    </tr>\n",
       "  </tbody>\n",
       "</table>\n",
       "<p>8164 rows × 4 columns</p>\n",
       "</div>"
      ],
      "text/plain": [
       "      SrcAddr  DTP    MetaLabel  EncLabel\n",
       "0           0   11   Botnet-UDP         2\n",
       "1           0   11   Botnet-UDP         2\n",
       "2           0    4   Botnet-TCP         3\n",
       "3           0   11   Botnet-UDP         2\n",
       "4           0    1   Botnet-UDP         2\n",
       "...       ...  ...          ...       ...\n",
       "8159        0    0  Botnet-ICMP         1\n",
       "8160        0    0  Botnet-ICMP         1\n",
       "8161        0    0  Botnet-ICMP         1\n",
       "8162        0    0  Botnet-ICMP         1\n",
       "8163        0    0  Botnet-ICMP         1\n",
       "\n",
       "[8164 rows x 4 columns]"
      ]
     },
     "execution_count": 64,
     "metadata": {},
     "output_type": "execute_result"
    }
   ],
   "source": [
    "# We need all the datasets\n",
    "\n",
    "df_11 = pd.read_csv('./dataset_11/capture20110818-2.binetflow')\n",
    "\n",
    "# Engineer the data for each (the same way we did for df_11)\n",
    "df_11.drop(\"StartTime\", axis=1, inplace=True) # Every value is different, time likely not an important factor\n",
    "df_11.drop(index=np.where(df_11['Label'].str.contains(\"Background\"))[0], inplace=True) # drop background traffic\n",
    "df_11.drop([\"sTos\", \"dTos\"], axis=1, inplace=True) # only contains 1 value, and NaN\n",
    "df_11.reset_index(drop=True, inplace=True)\n",
    "\n",
    "# Fill the NaN values (ICMP packets are transport-layer, so they don't have a port number. Set the ports = 0)\n",
    "df_11.Sport.fillna(value=0, inplace=True) # set the NaN port = 0\n",
    "df_11.Dport.fillna(value=0, inplace=True) # set the NaN port = 0\n",
    "df_11.State.fillna(value=\"OTHER\", inplace=True) # Set the state to OTHER\n",
    "\n",
    "\n",
    "df_11.Dport = df_11.Dport.astype('str')\n",
    "df_11.Sport = df_11.Sport.astype('str')\n",
    "df_11.Dport = df_11.Dport.apply(lambda x: int(str(x), 0))\n",
    "df_11.Sport = df_11.Sport.apply(lambda x: int(str(x), 0))\n",
    "\n",
    "\n",
    "\n",
    "# Let's create a meta-label attribute for each protocol type for botnet activity\n",
    "df_11['MetaLabel'] = pd.Series()\n",
    "df_11.MetaLabel.loc[np.where(df_11.Label.str.contains('ICMP'))] = 'Botnet-ICMP'\n",
    "df_11.MetaLabel.loc[np.where(df_11.Label.str.contains('UDP'))] = 'Botnet-UDP'\n",
    "df_11.MetaLabel.loc[np.where(df_11.Label.str.contains('TCP'))] = 'Botnet-TCP'\n",
    "\n",
    "\n",
    "df_11_inf = df_11.loc[np.where(df_11.Label.str.contains('Botnet'))].reset_index(inplace=False)\n",
    "\n",
    "df_11_enc = df_11_inf.copy()\n",
    "# df_11_enc.Dur = LabelEncoder().fit_transform(df_11_enc.Dur)\n",
    "df_11_enc.Proto = LabelEncoder().fit_transform(df_11_enc.Proto)\n",
    "df_11_enc.SrcAddr = LabelEncoder().fit_transform(df_11_enc.SrcAddr)\n",
    "df_11_enc.Sport = LabelEncoder().fit_transform(df_11_enc.Sport.astype('str'))\n",
    "df_11_enc.Dir = LabelEncoder().fit_transform(df_11_enc.Dir)\n",
    "df_11_enc.DstAddr = LabelEncoder().fit_transform(df_11_enc.DstAddr.astype('str'))\n",
    "df_11_enc.Dport = LabelEncoder().fit_transform(df_11_enc.Dport.astype('str'))\n",
    "df_11_enc.State = LabelEncoder().fit_transform(df_11_enc.State.astype('str'))\n",
    "df_11_enc.TotPkts = LabelEncoder().fit_transform(df_11_enc.TotPkts)\n",
    "df_11_enc.TotBytes = LabelEncoder().fit_transform(df_11_enc.TotBytes)\n",
    "df_11_enc.SrcBytes = LabelEncoder().fit_transform(df_11_enc.SrcBytes)\n",
    "\n",
    "df_11_enc['EncLabel'] = pd.Series()\n",
    "df_11_enc.EncLabel.loc[np.where(df_11_enc.Label.str.contains('ICMP'))] = 1\n",
    "df_11_enc.EncLabel.loc[np.where(df_11_enc.Label.str.contains('UDP'))] = 2\n",
    "df_11_enc.EncLabel.loc[np.where(df_11_enc.Label.str.contains('TCP'))] = 3\n",
    "df_11_enc.EncLabel = df_11_enc.EncLabel.astype('int8')\n",
    "\n",
    "\n",
    "df_11_enc['DTP'] = df_11_enc.Dir.astype('str') + df_11_enc.TotPkts.astype('str')\n",
    "df_11_enc.DTP = df_11_enc.DTP.astype('int32')\n",
    "df_11_x = pd.concat([df_11_enc.SrcAddr, df_11_enc.DTP, df_11_enc.MetaLabel, df_11_enc.EncLabel], axis=1)\n",
    "\n",
    "df_11_x"
   ]
  },
  {
   "cell_type": "code",
   "execution_count": 65,
   "metadata": {
    "scrolled": true
   },
   "outputs": [
    {
     "name": "stderr",
     "output_type": "stream",
     "text": [
      "<ipython-input-65-1bc3db78e95c>:25: DeprecationWarning: The default dtype for empty Series will be 'object' instead of 'float64' in a future version. Specify a dtype explicitly to silence this warning.\n",
      "  df_12['MetaLabel'] = pd.Series()\n",
      "C:\\ProgramData\\Anaconda3\\envs\\lab\\lib\\site-packages\\pandas\\core\\indexing.py:1637: SettingWithCopyWarning: \n",
      "A value is trying to be set on a copy of a slice from a DataFrame\n",
      "\n",
      "See the caveats in the documentation: https://pandas.pydata.org/pandas-docs/stable/user_guide/indexing.html#returning-a-view-versus-a-copy\n",
      "  self._setitem_single_block(indexer, value, name)\n",
      "<ipython-input-65-1bc3db78e95c>:46: DeprecationWarning: The default dtype for empty Series will be 'object' instead of 'float64' in a future version. Specify a dtype explicitly to silence this warning.\n",
      "  df_12_enc['EncLabel'] = pd.Series()\n"
     ]
    },
    {
     "data": {
      "text/html": [
       "<div>\n",
       "<style scoped>\n",
       "    .dataframe tbody tr th:only-of-type {\n",
       "        vertical-align: middle;\n",
       "    }\n",
       "\n",
       "    .dataframe tbody tr th {\n",
       "        vertical-align: top;\n",
       "    }\n",
       "\n",
       "    .dataframe thead th {\n",
       "        text-align: right;\n",
       "    }\n",
       "</style>\n",
       "<table border=\"1\" class=\"dataframe\">\n",
       "  <thead>\n",
       "    <tr style=\"text-align: right;\">\n",
       "      <th></th>\n",
       "      <th>SrcAddr</th>\n",
       "      <th>DTP</th>\n",
       "      <th>MetaLabel</th>\n",
       "      <th>EncLabel</th>\n",
       "    </tr>\n",
       "  </thead>\n",
       "  <tbody>\n",
       "    <tr>\n",
       "      <th>0</th>\n",
       "      <td>0</td>\n",
       "      <td>11</td>\n",
       "      <td>Botnet-UDP</td>\n",
       "      <td>2</td>\n",
       "    </tr>\n",
       "    <tr>\n",
       "      <th>1</th>\n",
       "      <td>0</td>\n",
       "      <td>11</td>\n",
       "      <td>Botnet-UDP</td>\n",
       "      <td>2</td>\n",
       "    </tr>\n",
       "    <tr>\n",
       "      <th>2</th>\n",
       "      <td>0</td>\n",
       "      <td>6</td>\n",
       "      <td>Botnet-TCP</td>\n",
       "      <td>3</td>\n",
       "    </tr>\n",
       "    <tr>\n",
       "      <th>3</th>\n",
       "      <td>0</td>\n",
       "      <td>11</td>\n",
       "      <td>Botnet-UDP</td>\n",
       "      <td>2</td>\n",
       "    </tr>\n",
       "    <tr>\n",
       "      <th>4</th>\n",
       "      <td>0</td>\n",
       "      <td>9</td>\n",
       "      <td>Botnet-TCP</td>\n",
       "      <td>3</td>\n",
       "    </tr>\n",
       "    <tr>\n",
       "      <th>...</th>\n",
       "      <td>...</td>\n",
       "      <td>...</td>\n",
       "      <td>...</td>\n",
       "      <td>...</td>\n",
       "    </tr>\n",
       "    <tr>\n",
       "      <th>2163</th>\n",
       "      <td>0</td>\n",
       "      <td>11</td>\n",
       "      <td>Botnet-UDP</td>\n",
       "      <td>2</td>\n",
       "    </tr>\n",
       "    <tr>\n",
       "      <th>2164</th>\n",
       "      <td>0</td>\n",
       "      <td>12</td>\n",
       "      <td>Botnet-UDP</td>\n",
       "      <td>2</td>\n",
       "    </tr>\n",
       "    <tr>\n",
       "      <th>2165</th>\n",
       "      <td>1</td>\n",
       "      <td>1</td>\n",
       "      <td>Botnet-UDP</td>\n",
       "      <td>2</td>\n",
       "    </tr>\n",
       "    <tr>\n",
       "      <th>2166</th>\n",
       "      <td>0</td>\n",
       "      <td>11</td>\n",
       "      <td>Botnet-UDP</td>\n",
       "      <td>2</td>\n",
       "    </tr>\n",
       "    <tr>\n",
       "      <th>2167</th>\n",
       "      <td>0</td>\n",
       "      <td>11</td>\n",
       "      <td>Botnet-UDP</td>\n",
       "      <td>2</td>\n",
       "    </tr>\n",
       "  </tbody>\n",
       "</table>\n",
       "<p>2168 rows × 4 columns</p>\n",
       "</div>"
      ],
      "text/plain": [
       "      SrcAddr  DTP   MetaLabel  EncLabel\n",
       "0           0   11  Botnet-UDP         2\n",
       "1           0   11  Botnet-UDP         2\n",
       "2           0    6  Botnet-TCP         3\n",
       "3           0   11  Botnet-UDP         2\n",
       "4           0    9  Botnet-TCP         3\n",
       "...       ...  ...         ...       ...\n",
       "2163        0   11  Botnet-UDP         2\n",
       "2164        0   12  Botnet-UDP         2\n",
       "2165        1    1  Botnet-UDP         2\n",
       "2166        0   11  Botnet-UDP         2\n",
       "2167        0   11  Botnet-UDP         2\n",
       "\n",
       "[2168 rows x 4 columns]"
      ]
     },
     "execution_count": 65,
     "metadata": {},
     "output_type": "execute_result"
    }
   ],
   "source": [
    "# We need all the datasets\n",
    "\n",
    "df_12 = pd.read_csv('./dataset_12/capture20110819.binetflow')\n",
    "\n",
    "# Engineer the data for each (the same way we did for df_12)\n",
    "df_12.drop(\"StartTime\", axis=1, inplace=True) # Every value is different, time likely not an important factor\n",
    "df_12.drop(index=np.where(df_12['Label'].str.contains(\"Background\"))[0], inplace=True) # drop background traffic\n",
    "df_12.drop([\"sTos\", \"dTos\"], axis=1, inplace=True) # only contains 1 value, and NaN\n",
    "df_12.reset_index(drop=True, inplace=True)\n",
    "\n",
    "# Fill the NaN values (ICMP packets are transport-layer, so they don't have a port number. Set the ports = 0)\n",
    "df_12.Sport.fillna(value=0, inplace=True) # set the NaN port = 0\n",
    "df_12.Dport.fillna(value=0, inplace=True) # set the NaN port = 0\n",
    "df_12.State.fillna(value=\"OTHER\", inplace=True) # Set the state to OTHER\n",
    "\n",
    "\n",
    "df_12.Dport = df_12.Dport.astype('str')\n",
    "df_12.Sport = df_12.Sport.astype('str')\n",
    "df_12.Dport = df_12.Dport.apply(lambda x: int(str(x), 0))\n",
    "df_12.Sport = df_12.Sport.apply(lambda x: int(str(x), 0))\n",
    "\n",
    "\n",
    "\n",
    "# Let's create a meta-label attribute for each protocol type for botnet activity\n",
    "df_12['MetaLabel'] = pd.Series()\n",
    "df_12.MetaLabel.loc[np.where(df_12.Label.str.contains('ICMP'))] = 'Botnet-ICMP'\n",
    "df_12.MetaLabel.loc[np.where(df_12.Label.str.contains('UDP'))] = 'Botnet-UDP'\n",
    "df_12.MetaLabel.loc[np.where(df_12.Label.str.contains('TCP'))] = 'Botnet-TCP'\n",
    "\n",
    "\n",
    "df_12_inf = df_12.loc[np.where(df_12.Label.str.contains('Botnet'))].reset_index(inplace=False)\n",
    "\n",
    "df_12_enc = df_12_inf.copy()\n",
    "# df_12_enc.Dur = LabelEncoder().fit_transform(df_12_enc.Dur)\n",
    "df_12_enc.Proto = LabelEncoder().fit_transform(df_12_enc.Proto)\n",
    "df_12_enc.SrcAddr = LabelEncoder().fit_transform(df_12_enc.SrcAddr)\n",
    "df_12_enc.Sport = LabelEncoder().fit_transform(df_12_enc.Sport.astype('str'))\n",
    "df_12_enc.Dir = LabelEncoder().fit_transform(df_12_enc.Dir)\n",
    "df_12_enc.DstAddr = LabelEncoder().fit_transform(df_12_enc.DstAddr.astype('str'))\n",
    "df_12_enc.Dport = LabelEncoder().fit_transform(df_12_enc.Dport.astype('str'))\n",
    "df_12_enc.State = LabelEncoder().fit_transform(df_12_enc.State.astype('str'))\n",
    "df_12_enc.TotPkts = LabelEncoder().fit_transform(df_12_enc.TotPkts)\n",
    "df_12_enc.TotBytes = LabelEncoder().fit_transform(df_12_enc.TotBytes)\n",
    "df_12_enc.SrcBytes = LabelEncoder().fit_transform(df_12_enc.SrcBytes)\n",
    "\n",
    "df_12_enc['EncLabel'] = pd.Series()\n",
    "df_12_enc.EncLabel.loc[np.where(df_12_enc.Label.str.contains('ICMP'))] = 1\n",
    "df_12_enc.EncLabel.loc[np.where(df_12_enc.Label.str.contains('UDP'))] = 2\n",
    "df_12_enc.EncLabel.loc[np.where(df_12_enc.Label.str.contains('TCP'))] = 3\n",
    "df_12_enc.EncLabel = df_12_enc.EncLabel.astype('int8')\n",
    "\n",
    "\n",
    "df_12_enc['DTP'] = df_12_enc.Dir.astype('str') + df_12_enc.TotPkts.astype('str')\n",
    "df_12_enc.DTP = df_12_enc.DTP.astype('int32')\n",
    "df_12_x = pd.concat([df_12_enc.SrcAddr, df_12_enc.DTP, df_12_enc.MetaLabel, df_12_enc.EncLabel], axis=1)\n",
    "\n",
    "\n",
    "df_12_x"
   ]
  },
  {
   "cell_type": "code",
   "execution_count": 66,
   "metadata": {
    "scrolled": false
   },
   "outputs": [
    {
     "data": {
      "text/html": [
       "<div>\n",
       "<style scoped>\n",
       "    .dataframe tbody tr th:only-of-type {\n",
       "        vertical-align: middle;\n",
       "    }\n",
       "\n",
       "    .dataframe tbody tr th {\n",
       "        vertical-align: top;\n",
       "    }\n",
       "\n",
       "    .dataframe thead th {\n",
       "        text-align: right;\n",
       "    }\n",
       "</style>\n",
       "<table border=\"1\" class=\"dataframe\">\n",
       "  <thead>\n",
       "    <tr style=\"text-align: right;\">\n",
       "      <th></th>\n",
       "      <th>SrcAddr</th>\n",
       "      <th>DTP</th>\n",
       "      <th>MetaLabel</th>\n",
       "      <th>EncLabel</th>\n",
       "    </tr>\n",
       "  </thead>\n",
       "  <tbody>\n",
       "    <tr>\n",
       "      <th>0</th>\n",
       "      <td>0</td>\n",
       "      <td>11</td>\n",
       "      <td>Botnet-UDP</td>\n",
       "      <td>2</td>\n",
       "    </tr>\n",
       "    <tr>\n",
       "      <th>1</th>\n",
       "      <td>0</td>\n",
       "      <td>11</td>\n",
       "      <td>Botnet-UDP</td>\n",
       "      <td>2</td>\n",
       "    </tr>\n",
       "    <tr>\n",
       "      <th>2</th>\n",
       "      <td>0</td>\n",
       "      <td>6</td>\n",
       "      <td>Botnet-TCP</td>\n",
       "      <td>3</td>\n",
       "    </tr>\n",
       "    <tr>\n",
       "      <th>3</th>\n",
       "      <td>0</td>\n",
       "      <td>11</td>\n",
       "      <td>Botnet-UDP</td>\n",
       "      <td>2</td>\n",
       "    </tr>\n",
       "    <tr>\n",
       "      <th>4</th>\n",
       "      <td>0</td>\n",
       "      <td>1</td>\n",
       "      <td>Botnet-UDP</td>\n",
       "      <td>2</td>\n",
       "    </tr>\n",
       "    <tr>\n",
       "      <th>...</th>\n",
       "      <td>...</td>\n",
       "      <td>...</td>\n",
       "      <td>...</td>\n",
       "      <td>...</td>\n",
       "    </tr>\n",
       "    <tr>\n",
       "      <th>301666</th>\n",
       "      <td>0</td>\n",
       "      <td>11</td>\n",
       "      <td>Botnet-UDP</td>\n",
       "      <td>2</td>\n",
       "    </tr>\n",
       "    <tr>\n",
       "      <th>301667</th>\n",
       "      <td>0</td>\n",
       "      <td>12</td>\n",
       "      <td>Botnet-UDP</td>\n",
       "      <td>2</td>\n",
       "    </tr>\n",
       "    <tr>\n",
       "      <th>301668</th>\n",
       "      <td>1</td>\n",
       "      <td>1</td>\n",
       "      <td>Botnet-UDP</td>\n",
       "      <td>2</td>\n",
       "    </tr>\n",
       "    <tr>\n",
       "      <th>301669</th>\n",
       "      <td>0</td>\n",
       "      <td>11</td>\n",
       "      <td>Botnet-UDP</td>\n",
       "      <td>2</td>\n",
       "    </tr>\n",
       "    <tr>\n",
       "      <th>301670</th>\n",
       "      <td>0</td>\n",
       "      <td>11</td>\n",
       "      <td>Botnet-UDP</td>\n",
       "      <td>2</td>\n",
       "    </tr>\n",
       "  </tbody>\n",
       "</table>\n",
       "<p>301671 rows × 4 columns</p>\n",
       "</div>"
      ],
      "text/plain": [
       "        SrcAddr  DTP   MetaLabel  EncLabel\n",
       "0             0   11  Botnet-UDP         2\n",
       "1             0   11  Botnet-UDP         2\n",
       "2             0    6  Botnet-TCP         3\n",
       "3             0   11  Botnet-UDP         2\n",
       "4             0    1  Botnet-UDP         2\n",
       "...         ...  ...         ...       ...\n",
       "301666        0   11  Botnet-UDP         2\n",
       "301667        0   12  Botnet-UDP         2\n",
       "301668        1    1  Botnet-UDP         2\n",
       "301669        0   11  Botnet-UDP         2\n",
       "301670        0   11  Botnet-UDP         2\n",
       "\n",
       "[301671 rows x 4 columns]"
      ]
     },
     "execution_count": 66,
     "metadata": {},
     "output_type": "execute_result"
    }
   ],
   "source": [
    "df_x = pd.concat([df_9_x, df_10_x, df_11_x, df_12_x], axis=0, ignore_index=True)\n",
    "df_x"
   ]
  },
  {
   "cell_type": "code",
   "execution_count": 54,
   "metadata": {},
   "outputs": [
    {
     "data": {
      "text/plain": [
       "0       127157\n",
       "11      107369\n",
       "2        16001\n",
       "1        14636\n",
       "5         7549\n",
       "         ...  \n",
       "325          1\n",
       "1161         1\n",
       "323          1\n",
       "394          1\n",
       "406          1\n",
       "Name: DTP, Length: 502, dtype: int64"
      ]
     },
     "execution_count": 54,
     "metadata": {},
     "output_type": "execute_result"
    }
   ],
   "source": [
    "# We can see the distribution of our discretized DDTP values, some of which are significantly higher in numerical value\n",
    "df_x.DTP.value_counts()"
   ]
  },
  {
   "cell_type": "code",
   "execution_count": 58,
   "metadata": {},
   "outputs": [
    {
     "name": "stderr",
     "output_type": "stream",
     "text": [
      "C:\\ProgramData\\Anaconda3\\envs\\lab\\lib\\site-packages\\pandas\\core\\indexing.py:1637: SettingWithCopyWarning: \n",
      "A value is trying to be set on a copy of a slice from a DataFrame\n",
      "\n",
      "See the caveats in the documentation: https://pandas.pydata.org/pandas-docs/stable/user_guide/indexing.html#returning-a-view-versus-a-copy\n",
      "  self._setitem_single_block(indexer, value, name)\n",
      "C:\\ProgramData\\Anaconda3\\envs\\lab\\lib\\site-packages\\pandas\\core\\indexing.py:1637: SettingWithCopyWarning: \n",
      "A value is trying to be set on a copy of a slice from a DataFrame\n",
      "\n",
      "See the caveats in the documentation: https://pandas.pydata.org/pandas-docs/stable/user_guide/indexing.html#returning-a-view-versus-a-copy\n",
      "  self._setitem_single_block(indexer, value, name)\n",
      "C:\\ProgramData\\Anaconda3\\envs\\lab\\lib\\site-packages\\pandas\\core\\indexing.py:1637: SettingWithCopyWarning: \n",
      "A value is trying to be set on a copy of a slice from a DataFrame\n",
      "\n",
      "See the caveats in the documentation: https://pandas.pydata.org/pandas-docs/stable/user_guide/indexing.html#returning-a-view-versus-a-copy\n",
      "  self._setitem_single_block(indexer, value, name)\n"
     ]
    }
   ],
   "source": [
    "# Let's bin these into the top 3 categories as we did in exercise 1: 0, 1, and 2.\n",
    "\n",
    "df_x.DTP.loc[np.where(df_x.DTP == 0)] = 0\n",
    "df_x.DTP.loc[np.where(df_x.DTP == 11)] = 1\n",
    "df_x.DTP.loc[np.where(df_x.DTP > 1)] = 2"
   ]
  },
  {
   "cell_type": "code",
   "execution_count": 59,
   "metadata": {},
   "outputs": [
    {
     "data": {
      "text/plain": [
       "0    127157\n",
       "1    122005\n",
       "2     52509\n",
       "Name: DTP, dtype: int64"
      ]
     },
     "execution_count": 59,
     "metadata": {},
     "output_type": "execute_result"
    }
   ],
   "source": [
    "# A bit more balanced\n",
    "df_x.DTP.value_counts()"
   ]
  },
  {
   "cell_type": "markdown",
   "metadata": {},
   "source": [
    "### 6a. Learn a sequential model"
   ]
  },
  {
   "cell_type": "code",
   "execution_count": 60,
   "metadata": {},
   "outputs": [
    {
     "data": {
      "text/plain": [
       "<matplotlib.legend.Legend at 0x163412157f0>"
      ]
     },
     "execution_count": 60,
     "metadata": {},
     "output_type": "execute_result"
    },
    {
     "data": {
      "image/png": "[encoded data removed]",
      "text/plain": [
       "<Figure size 1440x1080 with 2 Axes>"
      ]
     },
     "metadata": {
      "needs_background": "light"
     },
     "output_type": "display_data"
    }
   ],
   "source": [
    "# We can see below that there's a dramatic shift when the botnet starts receiving ICMP packets. \n",
    "fig, ax = plt.subplots(figsize=(20,15))\n",
    "\n",
    "df_x['DTP_500'] = pd.Series(df_x.DTP.rolling(window=500).mean()).fillna(method='bfill')\n",
    "ax1 = ax.twinx()\n",
    "ax1.grid()\n",
    "ax.plot(df_x.DTP)\n",
    "ax.plot(df_x.DTP_500)\n",
    "\n",
    "ax1.scatter(df_x.index, df_x.MetaLabel, color='red')\n",
    "ax1.legend(['Attack Type'])"
   ]
  },
  {
   "cell_type": "markdown",
   "metadata": {},
   "source": [
    "### 6b. Analysis and answers to the questions."
   ]
  },
  {
   "cell_type": "code",
   "execution_count": null,
   "metadata": {},
   "outputs": [],
   "source": []
  },
  {
   "cell_type": "markdown",
   "metadata": {},
   "source": [
    "## 7.Botnet fingerprinting task – 1/2 A4"
   ]
  },
  {
   "cell_type": "markdown",
   "metadata": {},
   "source": [
    "### 7a. Fingerprinting\n"
   ]
  },
  {
   "cell_type": "code",
   "execution_count": null,
   "metadata": {},
   "outputs": [],
   "source": []
  },
  {
   "cell_type": "markdown",
   "metadata": {},
   "source": [
    "### 7b. Analysis and answers to the questions."
   ]
  },
  {
   "cell_type": "code",
   "execution_count": null,
   "metadata": {},
   "outputs": [],
   "source": []
  },
  {
   "cell_type": "markdown",
   "metadata": {},
   "source": [
    "## 8. Bonus Task 1/2 A4"
   ]
  },
  {
   "cell_type": "markdown",
   "metadata": {},
   "source": [
    "### 8a. Provide implementation and analysis."
   ]
  },
  {
   "cell_type": "code",
   "execution_count": null,
   "metadata": {},
   "outputs": [],
   "source": []
  }
 ],
 "metadata": {
  "kernelspec": {
   "display_name": "Python 3",
   "language": "python",
   "name": "python3"
  },
  "language_info": {
   "codemirror_mode": {
    "name": "ipython",
    "version": 3
   },
   "file_extension": ".py",
   "mimetype": "text/x-python",
   "name": "python",
   "nbconvert_exporter": "python",
   "pygments_lexer": "ipython3",
   "version": "3.9.4"
  }
 },
 "nbformat": 4,
 "nbformat_minor": 2
}
