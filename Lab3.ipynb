{
 "cells": [
  {
   "cell_type": "markdown",
   "metadata": {},
   "source": [
    "# CS4035 - Cyber Data Analytics\n",
    "## Lab 3 "
   ]
  },
  {
   "cell_type": "markdown",
   "metadata": {},
   "source": [
    "# --- NOTES ---\n",
    "\n",
    "- Discretize each \"netflow\" (which is just a single packet/row)\n",
    "- For each feature, create \"bins\" for the values (nunique? LabelEncoder?) \n",
    "- Concatenate all of these bins into a single feature, such that the dataset only has one feature (confirm?)\n",
    "- Use k-means to create clusters, and then \"utilize the interaction between the features to come up with the features\" (optional)\n",
    "\n",
    "\n",
    "- [Student] \"so each row has 1 feature after the concatenation. Since we need a 3-gram, doesn't this essentialy mean that we take row 1, row 2 and row 3 as the first 3-gram? Is then the second 3-gram, row 2, row 3, row 4?\"\n",
    "- [Daniel Vos] \"Yes, essentially. You summarize each row with one number/symbol and take 3-grams of these numbers/symbols\""
   ]
  },
  {
   "cell_type": "markdown",
   "metadata": {},
   "source": [
    "### Submit on brightspace (zip file with the name Group_xx.zip)\n",
    "(i) This jupyter file completed with code, plots, figures and report for each question. Additional plots and figures can be created for explanation before the end of each main question. Lab 3 contains 7 main questions, including the bonus. Write the code or explanation below each sub question. For the explantions, include what you would normally include in the report for this lab assignment, for example data pre-processing, hypothesis tested, approach, results, etc.\n",
    "(ii) A PDF or a Word report for the assignment. Create a report from the plots, figures, tables and the write-up that you provide in this jupyter file. The report will be used as a proof for page limit. \n",
    "(iii) The libraries needed to run this file. \n",
    "\n",
    "Your peers should be able to use the readme section for instructions and be able to run this file. "
   ]
  },
  {
   "cell_type": "markdown",
   "metadata": {},
   "source": [
    "## Group Number :"
   ]
  },
  {
   "cell_type": "markdown",
   "metadata": {},
   "source": [
    "## Student 1 \n",
    "### Name: Andrew Gold\n",
    "### ID: 4995902"
   ]
  },
  {
   "cell_type": "markdown",
   "metadata": {},
   "source": [
    "## Student 2\n",
    "### Name :\n",
    "### ID :"
   ]
  },
  {
   "cell_type": "markdown",
   "metadata": {},
   "source": [
    "## Readme - Provide instructions - libraries used, location of the data file, etc. Keep it short. Remember your peers will not debug your code and should be able to reproduce the exact output you provide."
   ]
  },
  {
   "cell_type": "code",
   "execution_count": 250,
   "metadata": {},
   "outputs": [],
   "source": [
    "import numpy as np\n",
    "import pandas as pd\n",
    "import matplotlib.pyplot as plt\n",
    "import seaborn as sns\n",
    "\n",
    "from sklearn.preprocessing import LabelEncoder, OneHotEncoder, MinMaxScaler, StandardScaler"
   ]
  },
  {
   "cell_type": "code",
   "execution_count": 288,
   "metadata": {},
   "outputs": [
    {
     "data": {
      "text/html": [
       "<div>\n",
       "<style scoped>\n",
       "    .dataframe tbody tr th:only-of-type {\n",
       "        vertical-align: middle;\n",
       "    }\n",
       "\n",
       "    .dataframe tbody tr th {\n",
       "        vertical-align: top;\n",
       "    }\n",
       "\n",
       "    .dataframe thead th {\n",
       "        text-align: right;\n",
       "    }\n",
       "</style>\n",
       "<table border=\"1\" class=\"dataframe\">\n",
       "  <thead>\n",
       "    <tr style=\"text-align: right;\">\n",
       "      <th></th>\n",
       "      <th>Dur</th>\n",
       "      <th>Proto</th>\n",
       "      <th>SrcAddr</th>\n",
       "      <th>Sport</th>\n",
       "      <th>Dir</th>\n",
       "      <th>DstAddr</th>\n",
       "      <th>Dport</th>\n",
       "      <th>State</th>\n",
       "      <th>TotPkts</th>\n",
       "      <th>TotBytes</th>\n",
       "      <th>SrcBytes</th>\n",
       "      <th>Label</th>\n",
       "    </tr>\n",
       "  </thead>\n",
       "  <tbody>\n",
       "    <tr>\n",
       "      <th>0</th>\n",
       "      <td>3587.569824</td>\n",
       "      <td>tcp</td>\n",
       "      <td>147.32.84.164</td>\n",
       "      <td>54784</td>\n",
       "      <td>&lt;?&gt;</td>\n",
       "      <td>74.125.232.215</td>\n",
       "      <td>443</td>\n",
       "      <td>PA_PA</td>\n",
       "      <td>3049</td>\n",
       "      <td>978731</td>\n",
       "      <td>245317</td>\n",
       "      <td>flow=From-Normal-V51-Grill</td>\n",
       "    </tr>\n",
       "    <tr>\n",
       "      <th>1</th>\n",
       "      <td>198.072739</td>\n",
       "      <td>tcp</td>\n",
       "      <td>147.32.84.164</td>\n",
       "      <td>56165</td>\n",
       "      <td>&lt;?&gt;</td>\n",
       "      <td>74.125.232.197</td>\n",
       "      <td>80</td>\n",
       "      <td>FA_FA</td>\n",
       "      <td>14</td>\n",
       "      <td>924</td>\n",
       "      <td>462</td>\n",
       "      <td>flow=From-Normal-V51-Grill</td>\n",
       "    </tr>\n",
       "    <tr>\n",
       "      <th>2</th>\n",
       "      <td>197.928329</td>\n",
       "      <td>tcp</td>\n",
       "      <td>147.32.84.164</td>\n",
       "      <td>57965</td>\n",
       "      <td>&lt;?&gt;</td>\n",
       "      <td>209.85.149.138</td>\n",
       "      <td>80</td>\n",
       "      <td>FA_FA</td>\n",
       "      <td>14</td>\n",
       "      <td>924</td>\n",
       "      <td>462</td>\n",
       "      <td>flow=From-Normal-V51-Grill</td>\n",
       "    </tr>\n",
       "    <tr>\n",
       "      <th>3</th>\n",
       "      <td>0.000399</td>\n",
       "      <td>udp</td>\n",
       "      <td>147.32.84.170</td>\n",
       "      <td>45807</td>\n",
       "      <td>&lt;-&gt;</td>\n",
       "      <td>147.32.80.9</td>\n",
       "      <td>53</td>\n",
       "      <td>CON</td>\n",
       "      <td>2</td>\n",
       "      <td>400</td>\n",
       "      <td>74</td>\n",
       "      <td>flow=From-Normal-V51-Stribrek</td>\n",
       "    </tr>\n",
       "    <tr>\n",
       "      <th>4</th>\n",
       "      <td>0.000400</td>\n",
       "      <td>udp</td>\n",
       "      <td>147.32.84.170</td>\n",
       "      <td>35380</td>\n",
       "      <td>&lt;-&gt;</td>\n",
       "      <td>147.32.80.9</td>\n",
       "      <td>53</td>\n",
       "      <td>CON</td>\n",
       "      <td>2</td>\n",
       "      <td>400</td>\n",
       "      <td>74</td>\n",
       "      <td>flow=From-Normal-V51-Stribrek</td>\n",
       "    </tr>\n",
       "  </tbody>\n",
       "</table>\n",
       "</div>"
      ],
      "text/plain": [
       "           Dur Proto        SrcAddr  Sport  Dir         DstAddr Dport  State  \\\n",
       "0  3587.569824   tcp  147.32.84.164  54784  <?>  74.125.232.215   443  PA_PA   \n",
       "1   198.072739   tcp  147.32.84.164  56165  <?>  74.125.232.197    80  FA_FA   \n",
       "2   197.928329   tcp  147.32.84.164  57965  <?>  209.85.149.138    80  FA_FA   \n",
       "3     0.000399   udp  147.32.84.170  45807  <->     147.32.80.9    53    CON   \n",
       "4     0.000400   udp  147.32.84.170  35380  <->     147.32.80.9    53    CON   \n",
       "\n",
       "   TotPkts  TotBytes  SrcBytes                          Label  \n",
       "0     3049    978731    245317     flow=From-Normal-V51-Grill  \n",
       "1       14       924       462     flow=From-Normal-V51-Grill  \n",
       "2       14       924       462     flow=From-Normal-V51-Grill  \n",
       "3        2       400        74  flow=From-Normal-V51-Stribrek  \n",
       "4        2       400        74  flow=From-Normal-V51-Stribrek  "
      ]
     },
     "execution_count": 288,
     "metadata": {},
     "output_type": "execute_result"
    }
   ],
   "source": [
    "df_10 = pd.read_pickle(\"./dataset_10/capture20110818.pkl\")\n",
    "# df_10 = pd.read_pickle(\"./dataset_10/capture_no_background.pkl\")\n",
    "\n",
    "# Drop the following columns because...\n",
    "df_10.drop(\"StartTime\", axis=1, inplace=True) # Every value is different, time likely not an important factor\n",
    "df_10.drop(index=np.where(df_10['Label'].str.contains(\"Background\"))[0], inplace=True) # drop background traffic\n",
    "df_10.drop([\"sTos\", \"dTos\"], axis=1, inplace=True) # only contains 1 value, and NaN\n",
    "df_10.reset_index(drop=True, inplace=True)\n",
    "df_10.head()"
   ]
  },
  {
   "cell_type": "code",
   "execution_count": 289,
   "metadata": {},
   "outputs": [
    {
     "data": {
      "text/plain": [
       "Dur              0\n",
       "Proto            0\n",
       "SrcAddr          0\n",
       "Sport           27\n",
       "Dir              0\n",
       "DstAddr          0\n",
       "Dport       101196\n",
       "State         1227\n",
       "TotPkts          0\n",
       "TotBytes         0\n",
       "SrcBytes         0\n",
       "Label            0\n",
       "dtype: int64"
      ]
     },
     "execution_count": 289,
     "metadata": {},
     "output_type": "execute_result"
    }
   ],
   "source": [
    "# First let's see what kind of null values we've got\n",
    "df_10.isnull().sum()"
   ]
  },
  {
   "cell_type": "code",
   "execution_count": 290,
   "metadata": {},
   "outputs": [],
   "source": [
    "# Fill the NaN values\n",
    "df_10.Sport.fillna(value=0, inplace=True) # set the NaN port = 0\n",
    "df_10.Dport.fillna(value=0, inplace=True) # set the NaN port = 0\n",
    "df_10.State.fillna(value=\"OTHER\", inplace=True) # Set the state to OTHER"
   ]
  },
  {
   "cell_type": "code",
   "execution_count": 291,
   "metadata": {},
   "outputs": [
    {
     "name": "stderr",
     "output_type": "stream",
     "text": [
      "C:\\ProgramData\\Anaconda3\\envs\\labs\\lib\\site-packages\\pandas\\core\\indexing.py:1637: SettingWithCopyWarning: \n",
      "A value is trying to be set on a copy of a slice from a DataFrame\n",
      "\n",
      "See the caveats in the documentation: https://pandas.pydata.org/pandas-docs/stable/user_guide/indexing.html#returning-a-view-versus-a-copy\n",
      "  self._setitem_single_block(indexer, value, name)\n"
     ]
    }
   ],
   "source": [
    "# Relabel some of the directional flows to be less ambiguous\n",
    "df_10.Dir.loc[np.where(df_10.Dir == \"->\")] = 'send'\n",
    "df_10.Dir.loc[np.where(df_10.Dir == \"<-\")] = 'receive'\n",
    "df_10.Dir.loc[np.where(df_10.Dir == \"<->\")] = 'both'\n",
    "df_10.Dir.loc[np.where(df_10.Dir == \"<?>\")] = 'other'\n",
    "df_10.Dir.loc[np.where(df_10.Dir == \"?>\")] = 'other'\n",
    "df_10.Dir.loc[np.where(df_10.Dir == \"who\")] = 'other'"
   ]
  },
  {
   "cell_type": "code",
   "execution_count": 292,
   "metadata": {},
   "outputs": [
    {
     "name": "stdout",
     "output_type": "stream",
     "text": [
      "Dur 16922\n",
      "Proto 4\n",
      "SrcAddr 28\n",
      "Sport 62662\n",
      "Dir 4\n",
      "DstAddr 351\n",
      "Dport 947\n",
      "State 121\n",
      "TotPkts 481\n",
      "TotBytes 2532\n",
      "SrcBytes 2032\n",
      "Label 75\n"
     ]
    }
   ],
   "source": [
    "for col in df_10.columns:\n",
    "    print(col, df_10[col].nunique())"
   ]
  },
  {
   "cell_type": "code",
   "execution_count": 293,
   "metadata": {},
   "outputs": [
    {
     "data": {
      "text/plain": [
       "<BarContainer object of 4 artists>"
      ]
     },
     "execution_count": 293,
     "metadata": {},
     "output_type": "execute_result"
    },
    {
     "data": {
      "image/png": "[encoded data removed]",
      "text/plain": [
       "<Figure size 432x288 with 1 Axes>"
      ]
     },
     "metadata": {
      "needs_background": "light"
     },
     "output_type": "display_data"
    }
   ],
   "source": [
    "plt.yscale('log')\n",
    "plt.bar(df_10.Proto.unique(), df_10.Proto.value_counts())"
   ]
  },
  {
   "cell_type": "code",
   "execution_count": 294,
   "metadata": {},
   "outputs": [
    {
     "data": {
      "text/plain": [
       "<BarContainer object of 4 artists>"
      ]
     },
     "execution_count": 294,
     "metadata": {},
     "output_type": "execute_result"
    },
    {
     "data": {
      "image/png": "[encoded data removed]",
      "text/plain": [
       "<Figure size 432x288 with 1 Axes>"
      ]
     },
     "metadata": {
      "needs_background": "light"
     },
     "output_type": "display_data"
    }
   ],
   "source": [
    "plt.yscale('log')\n",
    "plt.bar(df_10.Dir.unique(), df_10.Dir.value_counts())"
   ]
  },
  {
   "cell_type": "code",
   "execution_count": 295,
   "metadata": {},
   "outputs": [
    {
     "data": {
      "text/plain": [
       "<BarContainer object of 28 artists>"
      ]
     },
     "execution_count": 295,
     "metadata": {},
     "output_type": "execute_result"
    },
    {
     "data": {
      "image/png": "[encoded data removed]",
      "text/plain": [
       "<Figure size 432x288 with 1 Axes>"
      ]
     },
     "metadata": {
      "needs_background": "light"
     },
     "output_type": "display_data"
    }
   ],
   "source": [
    "plt.yscale('log')\n",
    "plt.bar(df_10.SrcAddr.unique(), df_10.SrcAddr.value_counts())"
   ]
  },
  {
   "cell_type": "code",
   "execution_count": 296,
   "metadata": {},
   "outputs": [
    {
     "name": "stdout",
     "output_type": "stream",
     "text": [
      "flow=From-Botnet-V51-6-ICMP                                  11836\n",
      "flow=From-Botnet-V51-7-ICMP                                  11252\n",
      "flow=From-Botnet-V51-5-ICMP                                  11125\n",
      "flow=From-Botnet-V51-9-ICMP                                  11081\n",
      "flow=From-Botnet-V51-8-ICMP                                  10541\n",
      "flow=From-Botnet-V51-2-ICMP                                  10415\n",
      "flow=From-Botnet-V51-3-ICMP                                  10363\n",
      "flow=From-Normal-V51-Stribrek                                10216\n",
      "flow=From-Botnet-V51-4-ICMP                                   9970\n",
      "flow=From-Botnet-V51-10-ICMP                                  9857\n",
      "flow=From-Botnet-V51-1-ICMP                                   9537\n",
      "flow=From-Normal-V51-Grill                                    3728\n",
      "flow=From-Normal-V51-Jist                                     1091\n",
      "flow=From-Normal-V51-UDP-CVUT-DNS-Server                       667\n",
      "flow=From-Normal-V51-CVUT-WebServer                             99\n",
      "flow=To-Normal-V51-UDP-NTP-server                               37\n",
      "flow=From-Botnet-V51-1-UDP-DNS                                  18\n",
      "flow=From-Botnet-V51-8-UDP-DNS                                  17\n",
      "flow=From-Botnet-V51-2-UDP-DNS                                  17\n",
      "flow=From-Botnet-V51-9-UDP-Attempt                              16\n",
      "flow=From-Botnet-V51-6-UDP-Attempt                              16\n",
      "flow=From-Botnet-V51-10-UDP-DNS                                 16\n",
      "flow=From-Botnet-V51-4-UDP-DNS                                  15\n",
      "flow=From-Botnet-V51-8-UDP-Attempt                              15\n",
      "flow=From-Botnet-V51-9-UDP-DNS                                  14\n",
      "flow=From-Botnet-V51-4-UDP-Attempt                              14\n",
      "flow=From-Botnet-V51-1-UDP-Attempt                              14\n",
      "flow=From-Botnet-V51-5-UDP-DNS                                  14\n",
      "flow=From-Botnet-V51-3-UDP-DNS                                  14\n",
      "flow=From-Botnet-V51-7-UDP-DNS                                  14\n",
      "flow=From-Botnet-V51-6-UDP-DNS                                  14\n",
      "flow=From-Botnet-V51-2-UDP-Attempt                              13\n",
      "flow=From-Botnet-V51-7-UDP-Attempt                              13\n",
      "flow=From-Botnet-V51-3-UDP-Attempt                              13\n",
      "flow=From-Botnet-V51-10-UDP-Attempt                             13\n",
      "flow=From-Botnet-V51-5-UDP-Attempt                              13\n",
      "flow=Normal-V51-HTTP-windowsupdate                               5\n",
      "flow=From-Botnet-V51-7-TCP-CC106-IRC-Not-Encrypted               4\n",
      "flow=From-Botnet-V51-10-TCP-CC106-IRC-Not-Encrypted              4\n",
      "flow=From-Botnet-V51-6-TCP-CC106-IRC-Not-Encrypted               4\n",
      "flow=From-Botnet-V51-2-TCP-HTTP-Google-Net-Established-6         4\n",
      "flow=From-Normal-V51-MatLab-Server                               4\n",
      "flow=From-Botnet-V51-1-TCP-HTTP-Google-Net-Established-6         4\n",
      "flow=From-Botnet-V51-1-TCP-CC106-IRC-Not-Encrypted               4\n",
      "flow=From-Botnet-V51-5-TCP-HTTP-Google-Net-Established-6         3\n",
      "flow=From-Botnet-V51-4-TCP-CC106-IRC-Not-Encrypted               3\n",
      "flow=From-Botnet-V51-4-TCP-Established                           3\n",
      "flow=From-Botnet-V51-3-TCP-HTTP-Google-Net-Established-6         3\n",
      "flow=From-Botnet-V51-9-TCP-HTTP-Google-Net-Established-6         3\n",
      "flow=From-Botnet-V51-6-TCP-HTTP-Google-Net-Established-6         3\n",
      "flow=From-Botnet-V51-3-TCP-CC106-IRC-Not-Encrypted               3\n",
      "flow=From-Botnet-V51-8-TCP-HTTP-Google-Net-Established-6         3\n",
      "flow=From-Botnet-V51-4-TCP-HTTP-Google-Net-Established-6         3\n",
      "flow=From-Botnet-V51-7-TCP-HTTP-Google-Net-Established-6         3\n",
      "flow=From-Botnet-V51-10-TCP-HTTP-Google-Net-Established-6        3\n",
      "flow=From-Botnet-V51-8-TCP-CC106-IRC-Not-Encrypted               2\n",
      "flow=From-Botnet-V51-5-TCP-CC106-IRC-Not-Encrypted               2\n",
      "flow=From-Botnet-V51-9-TCP-CC106-IRC-Not-Encrypted               2\n",
      "flow=From-Botnet-V51-2-TCP-CC106-IRC-Not-Encrypted               2\n",
      "flow=From-Botnet-V51-2-TCP-Established                           2\n",
      "flow=From-Botnet-V51-9-TCP-CC1-HTTP-Not-Encrypted                1\n",
      "flow=From-Botnet-V51-1-TCP-Established                           1\n",
      "flow=From-Botnet-V51-8-TCP-CC1-HTTP-Not-Encrypted                1\n",
      "flow=From-Botnet-V51-3-TCP-Established-HTTP-Ad-62                1\n",
      "flow=From-Botnet-V51-8-TCP-Established                           1\n",
      "flow=From-Botnet-V51-10-TCP-WEB-Established                      1\n",
      "flow=From-Botnet-V51-7-TCP-WEB-Established                       1\n",
      "flow=From-Botnet-V51-4-TCP-Established-HTTP-Ad-62                1\n",
      "flow=From-Botnet-V51-6-TCP-WEB-Established                       1\n",
      "flow=From-Botnet-V51-5-TCP-CC1-HTTP-Not-Encrypted                1\n",
      "flow=From-Botnet-V51-2-TCP-WEB-Established                       1\n",
      "flow=From-Botnet-V51-5-TCP-Established-HTTP-Ad-62                1\n",
      "flow=From-Botnet-V51-1-TCP-WEB-Established                       1\n",
      "flow=From-Botnet-V51-9-TCP-Established-HTTP-Ad-62                1\n",
      "flow=From-Botnet-V51-8-TCP-WEB-Established                       1\n"
     ]
    }
   ],
   "source": [
    "# Let's see what kind of different labels we have\n",
    "print(df_10.Label.value_counts().to_string())"
   ]
  },
  {
   "cell_type": "code",
   "execution_count": 304,
   "metadata": {},
   "outputs": [
    {
     "data": {
      "text/plain": [
       "0          Botnet-UDP\n",
       "1          Botnet-UDP\n",
       "2          Botnet-TCP\n",
       "3          Botnet-UDP\n",
       "4          Botnet-UDP\n",
       "             ...     \n",
       "122194    From-Normal\n",
       "122195    From-Normal\n",
       "122196    From-Normal\n",
       "122197    From-Normal\n",
       "122198    From-Normal\n",
       "Name: Label, Length: 122199, dtype: object"
      ]
     },
     "execution_count": 304,
     "metadata": {},
     "output_type": "execute_result"
    }
   ],
   "source": [
    "disc_labels = pd.Series(df_10.Label)\n",
    "botnet_labels = pd.Series(df_10.Label.loc[np.where(df_10.Label.str.contains('Botnet'))])\n",
    "\n",
    "disc_labels.loc[np.where(disc_labels.str.contains('From-Normal'))] = 'From-Normal'\n",
    "disc_labels.loc[np.where(disc_labels.str.contains('To-Normal'))] = 'To-Normal'\n",
    "disc_labels.loc[np.where(disc_labels.str.contains('Normal-V'))] = 'Normal'\n",
    "disc_labels.loc[np.where(botnet_labels.str.contains('ICMP'))] = 'Botnet-ICMP'\n",
    "disc_labels.loc[np.where(botnet_labels.str.contains('UDP'))] = 'Botnet-UDP'\n",
    "disc_labels.loc[np.where(botnet_labels.str.contains('TCP'))] = 'Botnet-TCP'\n",
    "\n",
    "\n",
    "disc_labels\n"
   ]
  },
  {
   "cell_type": "code",
   "execution_count": null,
   "metadata": {},
   "outputs": [],
   "source": []
  },
  {
   "cell_type": "code",
   "execution_count": 298,
   "metadata": {},
   "outputs": [
    {
     "name": "stderr",
     "output_type": "stream",
     "text": [
      "<ipython-input-298-0211a71a0c02>:2: DeprecationWarning: The default dtype for empty Series will be 'object' instead of 'float64' in a future version. Specify a dtype explicitly to silence this warning.\n",
      "  df_10['Metalabel'] = pd.Series()\n"
     ]
    },
    {
     "data": {
      "text/html": [
       "<div>\n",
       "<style scoped>\n",
       "    .dataframe tbody tr th:only-of-type {\n",
       "        vertical-align: middle;\n",
       "    }\n",
       "\n",
       "    .dataframe tbody tr th {\n",
       "        vertical-align: top;\n",
       "    }\n",
       "\n",
       "    .dataframe thead th {\n",
       "        text-align: right;\n",
       "    }\n",
       "</style>\n",
       "<table border=\"1\" class=\"dataframe\">\n",
       "  <thead>\n",
       "    <tr style=\"text-align: right;\">\n",
       "      <th></th>\n",
       "      <th>Dur</th>\n",
       "      <th>Proto</th>\n",
       "      <th>SrcAddr</th>\n",
       "      <th>Sport</th>\n",
       "      <th>Dir</th>\n",
       "      <th>DstAddr</th>\n",
       "      <th>Dport</th>\n",
       "      <th>State</th>\n",
       "      <th>TotPkts</th>\n",
       "      <th>TotBytes</th>\n",
       "      <th>SrcBytes</th>\n",
       "      <th>Label</th>\n",
       "      <th>Metalabel</th>\n",
       "    </tr>\n",
       "  </thead>\n",
       "  <tbody>\n",
       "    <tr>\n",
       "      <th>0</th>\n",
       "      <td>3587.569824</td>\n",
       "      <td>tcp</td>\n",
       "      <td>147.32.84.164</td>\n",
       "      <td>54784</td>\n",
       "      <td>other</td>\n",
       "      <td>74.125.232.215</td>\n",
       "      <td>443</td>\n",
       "      <td>PA_PA</td>\n",
       "      <td>3049</td>\n",
       "      <td>978731</td>\n",
       "      <td>245317</td>\n",
       "      <td>Botnet-UDP</td>\n",
       "      <td>1</td>\n",
       "    </tr>\n",
       "    <tr>\n",
       "      <th>1</th>\n",
       "      <td>198.072739</td>\n",
       "      <td>tcp</td>\n",
       "      <td>147.32.84.164</td>\n",
       "      <td>56165</td>\n",
       "      <td>other</td>\n",
       "      <td>74.125.232.197</td>\n",
       "      <td>80</td>\n",
       "      <td>FA_FA</td>\n",
       "      <td>14</td>\n",
       "      <td>924</td>\n",
       "      <td>462</td>\n",
       "      <td>Botnet-UDP</td>\n",
       "      <td>1</td>\n",
       "    </tr>\n",
       "    <tr>\n",
       "      <th>2</th>\n",
       "      <td>197.928329</td>\n",
       "      <td>tcp</td>\n",
       "      <td>147.32.84.164</td>\n",
       "      <td>57965</td>\n",
       "      <td>other</td>\n",
       "      <td>209.85.149.138</td>\n",
       "      <td>80</td>\n",
       "      <td>FA_FA</td>\n",
       "      <td>14</td>\n",
       "      <td>924</td>\n",
       "      <td>462</td>\n",
       "      <td>Botnet-TCP</td>\n",
       "      <td>1</td>\n",
       "    </tr>\n",
       "    <tr>\n",
       "      <th>3</th>\n",
       "      <td>0.000399</td>\n",
       "      <td>udp</td>\n",
       "      <td>147.32.84.170</td>\n",
       "      <td>45807</td>\n",
       "      <td>both</td>\n",
       "      <td>147.32.80.9</td>\n",
       "      <td>53</td>\n",
       "      <td>CON</td>\n",
       "      <td>2</td>\n",
       "      <td>400</td>\n",
       "      <td>74</td>\n",
       "      <td>Botnet-UDP</td>\n",
       "      <td>1</td>\n",
       "    </tr>\n",
       "    <tr>\n",
       "      <th>4</th>\n",
       "      <td>0.000400</td>\n",
       "      <td>udp</td>\n",
       "      <td>147.32.84.170</td>\n",
       "      <td>35380</td>\n",
       "      <td>both</td>\n",
       "      <td>147.32.80.9</td>\n",
       "      <td>53</td>\n",
       "      <td>CON</td>\n",
       "      <td>2</td>\n",
       "      <td>400</td>\n",
       "      <td>74</td>\n",
       "      <td>Botnet-UDP</td>\n",
       "      <td>1</td>\n",
       "    </tr>\n",
       "    <tr>\n",
       "      <th>...</th>\n",
       "      <td>...</td>\n",
       "      <td>...</td>\n",
       "      <td>...</td>\n",
       "      <td>...</td>\n",
       "      <td>...</td>\n",
       "      <td>...</td>\n",
       "      <td>...</td>\n",
       "      <td>...</td>\n",
       "      <td>...</td>\n",
       "      <td>...</td>\n",
       "      <td>...</td>\n",
       "      <td>...</td>\n",
       "      <td>...</td>\n",
       "    </tr>\n",
       "    <tr>\n",
       "      <th>122194</th>\n",
       "      <td>0.000743</td>\n",
       "      <td>icmp</td>\n",
       "      <td>147.32.84.164</td>\n",
       "      <td>0x0008</td>\n",
       "      <td>both</td>\n",
       "      <td>147.32.96.69</td>\n",
       "      <td>0x841e</td>\n",
       "      <td>ECO</td>\n",
       "      <td>2</td>\n",
       "      <td>196</td>\n",
       "      <td>98</td>\n",
       "      <td>From-Normal</td>\n",
       "      <td>0</td>\n",
       "    </tr>\n",
       "    <tr>\n",
       "      <th>122195</th>\n",
       "      <td>0.000913</td>\n",
       "      <td>icmp</td>\n",
       "      <td>147.32.84.164</td>\n",
       "      <td>0x0008</td>\n",
       "      <td>both</td>\n",
       "      <td>147.32.96.69</td>\n",
       "      <td>0x841e</td>\n",
       "      <td>ECO</td>\n",
       "      <td>2</td>\n",
       "      <td>196</td>\n",
       "      <td>98</td>\n",
       "      <td>From-Normal</td>\n",
       "      <td>0</td>\n",
       "    </tr>\n",
       "    <tr>\n",
       "      <th>122196</th>\n",
       "      <td>0.000414</td>\n",
       "      <td>udp</td>\n",
       "      <td>147.32.84.170</td>\n",
       "      <td>37138</td>\n",
       "      <td>both</td>\n",
       "      <td>147.32.80.9</td>\n",
       "      <td>53</td>\n",
       "      <td>CON</td>\n",
       "      <td>2</td>\n",
       "      <td>244</td>\n",
       "      <td>81</td>\n",
       "      <td>From-Normal</td>\n",
       "      <td>0</td>\n",
       "    </tr>\n",
       "    <tr>\n",
       "      <th>122197</th>\n",
       "      <td>0.000322</td>\n",
       "      <td>udp</td>\n",
       "      <td>147.32.84.170</td>\n",
       "      <td>39771</td>\n",
       "      <td>both</td>\n",
       "      <td>147.32.80.9</td>\n",
       "      <td>53</td>\n",
       "      <td>CON</td>\n",
       "      <td>2</td>\n",
       "      <td>280</td>\n",
       "      <td>81</td>\n",
       "      <td>From-Normal</td>\n",
       "      <td>0</td>\n",
       "    </tr>\n",
       "    <tr>\n",
       "      <th>122198</th>\n",
       "      <td>0.109055</td>\n",
       "      <td>tcp</td>\n",
       "      <td>147.32.84.170</td>\n",
       "      <td>43073</td>\n",
       "      <td>send</td>\n",
       "      <td>195.24.232.205</td>\n",
       "      <td>80</td>\n",
       "      <td>SPA_SA</td>\n",
       "      <td>5</td>\n",
       "      <td>557</td>\n",
       "      <td>417</td>\n",
       "      <td>From-Normal</td>\n",
       "      <td>0</td>\n",
       "    </tr>\n",
       "  </tbody>\n",
       "</table>\n",
       "<p>122199 rows × 13 columns</p>\n",
       "</div>"
      ],
      "text/plain": [
       "                Dur Proto        SrcAddr   Sport    Dir         DstAddr  \\\n",
       "0       3587.569824   tcp  147.32.84.164   54784  other  74.125.232.215   \n",
       "1        198.072739   tcp  147.32.84.164   56165  other  74.125.232.197   \n",
       "2        197.928329   tcp  147.32.84.164   57965  other  209.85.149.138   \n",
       "3          0.000399   udp  147.32.84.170   45807   both     147.32.80.9   \n",
       "4          0.000400   udp  147.32.84.170   35380   both     147.32.80.9   \n",
       "...             ...   ...            ...     ...    ...             ...   \n",
       "122194     0.000743  icmp  147.32.84.164  0x0008   both    147.32.96.69   \n",
       "122195     0.000913  icmp  147.32.84.164  0x0008   both    147.32.96.69   \n",
       "122196     0.000414   udp  147.32.84.170   37138   both     147.32.80.9   \n",
       "122197     0.000322   udp  147.32.84.170   39771   both     147.32.80.9   \n",
       "122198     0.109055   tcp  147.32.84.170   43073   send  195.24.232.205   \n",
       "\n",
       "         Dport   State  TotPkts  TotBytes  SrcBytes        Label  Metalabel  \n",
       "0          443   PA_PA     3049    978731    245317   Botnet-UDP          1  \n",
       "1           80   FA_FA       14       924       462   Botnet-UDP          1  \n",
       "2           80   FA_FA       14       924       462   Botnet-TCP          1  \n",
       "3           53     CON        2       400        74   Botnet-UDP          1  \n",
       "4           53     CON        2       400        74   Botnet-UDP          1  \n",
       "...        ...     ...      ...       ...       ...          ...        ...  \n",
       "122194  0x841e     ECO        2       196        98  From-Normal          0  \n",
       "122195  0x841e     ECO        2       196        98  From-Normal          0  \n",
       "122196      53     CON        2       244        81  From-Normal          0  \n",
       "122197      53     CON        2       280        81  From-Normal          0  \n",
       "122198      80  SPA_SA        5       557       417  From-Normal          0  \n",
       "\n",
       "[122199 rows x 13 columns]"
      ]
     },
     "execution_count": 298,
     "metadata": {},
     "output_type": "execute_result"
    }
   ],
   "source": [
    "# Let's create a meta-label binary attribute for \"attack\" vs \"normal\"\n",
    "df_10['Metalabel'] = pd.Series()\n",
    "df_10.Metalabel.loc[np.where(df_10.Label.str.contains('Botnet'))] = 1\n",
    "df_10.Metalabel.loc[np.where(df_10.Label.str.contains('Normal'))] = 0\n",
    "df_10.Metalabel = df_10.Metalabel.astype('int8')\n",
    "df_10\n"
   ]
  },
  {
   "cell_type": "markdown",
   "metadata": {},
   "source": [
    "## 1. Familiarization and discretization task – 1 A4"
   ]
  },
  {
   "cell_type": "code",
   "execution_count": 299,
   "metadata": {},
   "outputs": [
    {
     "name": "stdout",
     "output_type": "stream",
     "text": [
      "<class 'pandas.core.frame.DataFrame'>\n",
      "RangeIndex: 122199 entries, 0 to 122198\n",
      "Data columns (total 13 columns):\n",
      " #   Column     Non-Null Count   Dtype  \n",
      "---  ------     --------------   -----  \n",
      " 0   Dur        122199 non-null  float64\n",
      " 1   Proto      122199 non-null  object \n",
      " 2   SrcAddr    122199 non-null  object \n",
      " 3   Sport      122199 non-null  object \n",
      " 4   Dir        122199 non-null  object \n",
      " 5   DstAddr    122199 non-null  object \n",
      " 6   Dport      122199 non-null  object \n",
      " 7   State      122199 non-null  object \n",
      " 8   TotPkts    122199 non-null  int64  \n",
      " 9   TotBytes   122199 non-null  int64  \n",
      " 10  SrcBytes   122199 non-null  int64  \n",
      " 11  Label      122199 non-null  object \n",
      " 12  Metalabel  122199 non-null  int8   \n",
      "dtypes: float64(1), int64(3), int8(1), object(8)\n",
      "memory usage: 11.3+ MB\n"
     ]
    }
   ],
   "source": [
    "df_10.info()"
   ]
  },
  {
   "cell_type": "code",
   "execution_count": 300,
   "metadata": {},
   "outputs": [],
   "source": [
    "df_10.Dur = LabelEncoder().fit_transform(df_10.Dur)\n",
    "df_10.Proto = LabelEncoder().fit_transform(df_10.Proto)\n",
    "df_10.SrcAddr = LabelEncoder().fit_transform(df_10.SrcAddr)\n",
    "df_10.Sport = LabelEncoder().fit_transform(df_10.Sport.astype('str'))\n",
    "df_10.Dir = LabelEncoder().fit_transform(df_10.Dir)\n",
    "df_10.DstAddr = LabelEncoder().fit_transform(df_10.DstAddr.astype('str'))\n",
    "df_10.Dport = LabelEncoder().fit_transform(df_10.Dport.astype('str'))\n",
    "df_10.State = LabelEncoder().fit_transform(df_10.State.astype('str'))\n",
    "df_10.TotPkts = LabelEncoder().fit_transform(df_10.TotPkts)\n",
    "df_10.TotBytes = LabelEncoder().fit_transform(df_10.TotBytes)\n",
    "df_10.SrcBytes = LabelEncoder().fit_transform(df_10.SrcBytes)\n",
    "\n",
    "# Might not want to blindly encode these\n",
    "raw_labels = pd.Series(LabelEncoder().fit_transform(df_10.Label))"
   ]
  },
  {
   "cell_type": "code",
   "execution_count": 301,
   "metadata": {},
   "outputs": [
    {
     "name": "stdout",
     "output_type": "stream",
     "text": [
      "Botnet-ICMP                                                  105977\n",
      "flow=From-Botnet-V51-7-ICMP                                    2072\n",
      "flow=From-Botnet-V51-9-ICMP                                    2044\n",
      "flow=From-Botnet-V51-6-ICMP                                    1953\n",
      "flow=From-Botnet-V51-10-ICMP                                   1873\n",
      "flow=From-Botnet-V51-3-ICMP                                    1584\n",
      "flow=From-Botnet-V51-8-ICMP                                    1363\n",
      "flow=From-Botnet-V51-5-ICMP                                    1182\n",
      "From-Normal                                                    1028\n",
      "flow=From-Botnet-V51-1-ICMP                                     918\n",
      "flow=From-Botnet-V51-2-ICMP                                     918\n",
      "flow=From-Botnet-V51-4-ICMP                                     830\n",
      "Botnet-UDP                                                      293\n",
      "Botnet-TCP                                                       82\n",
      "flow=From-Botnet-V51-8-UDP-DNS                                    7\n",
      "flow=From-Botnet-V51-10-UDP-DNS                                   6\n",
      "flow=From-Botnet-V51-4-UDP-DNS                                    5\n",
      "flow=From-Botnet-V51-1-UDP-DNS                                    5\n",
      "flow=From-Botnet-V51-5-UDP-DNS                                    4\n",
      "flow=From-Botnet-V51-9-UDP-DNS                                    4\n",
      "flow=From-Botnet-V51-3-UDP-DNS                                    4\n",
      "flow=From-Botnet-V51-7-UDP-DNS                                    4\n",
      "flow=From-Botnet-V51-2-UDP-DNS                                    4\n",
      "flow=From-Botnet-V51-6-UDP-DNS                                    4\n",
      "flow=From-Botnet-V51-10-TCP-CC106-IRC-Not-Encrypted               2\n",
      "flow=From-Botnet-V51-4-TCP-CC106-IRC-Not-Encrypted                2\n",
      "flow=From-Botnet-V51-1-UDP-Attempt                                1\n",
      "flow=From-Botnet-V51-5-TCP-CC106-IRC-Not-Encrypted                1\n",
      "flow=From-Botnet-V51-1-TCP-HTTP-Google-Net-Established-6          1\n",
      "flow=From-Botnet-V51-6-TCP-CC106-IRC-Not-Encrypted                1\n",
      "flow=From-Botnet-V51-4-UDP-Attempt                                1\n",
      "flow=From-Botnet-V51-3-TCP-CC106-IRC-Not-Encrypted                1\n",
      "flow=From-Botnet-V51-2-TCP-HTTP-Google-Net-Established-6          1\n",
      "flow=From-Botnet-V51-8-TCP-HTTP-Google-Net-Established-6          1\n",
      "flow=From-Botnet-V51-8-TCP-CC1-HTTP-Not-Encrypted                 1\n",
      "flow=From-Botnet-V51-1-TCP-Established                            1\n",
      "flow=From-Botnet-V51-6-UDP-Attempt                                1\n",
      "flow=From-Botnet-V51-8-TCP-CC106-IRC-Not-Encrypted                1\n",
      "flow=From-Botnet-V51-5-UDP-Attempt                                1\n",
      "flow=From-Botnet-V51-3-UDP-Attempt                                1\n",
      "flow=From-Botnet-V51-7-TCP-HTTP-Google-Net-Established-6          1\n",
      "flow=From-Botnet-V51-4-TCP-HTTP-Google-Net-Established-6          1\n",
      "flow=From-Botnet-V51-10-UDP-Attempt                               1\n",
      "flow=From-Botnet-V51-6-TCP-HTTP-Google-Net-Established-6          1\n",
      "flow=From-Botnet-V51-3-TCP-HTTP-Google-Net-Established-6          1\n",
      "flow=From-Botnet-V51-4-TCP-Established                            1\n",
      "flow=From-Botnet-V51-9-TCP-HTTP-Google-Net-Established-6          1\n",
      "flow=From-Botnet-V51-7-UDP-Attempt                                1\n",
      "flow=From-Botnet-V51-10-TCP-HTTP-Google-Net-Established-6         1\n",
      "flow=From-Botnet-V51-1-TCP-CC106-IRC-Not-Encrypted                1\n",
      "flow=From-Botnet-V51-7-TCP-CC106-IRC-Not-Encrypted                1\n",
      "flow=From-Botnet-V51-9-TCP-CC1-HTTP-Not-Encrypted                 1\n",
      "flow=From-Botnet-V51-9-UDP-Attempt                                1\n",
      "flow=From-Botnet-V51-2-UDP-Attempt                                1\n",
      "flow=From-Botnet-V51-2-TCP-CC106-IRC-Not-Encrypted                1\n",
      "flow=From-Botnet-V51-5-TCP-HTTP-Google-Net-Established-6          1\n",
      "flow=From-Botnet-V51-8-UDP-Attempt                                1\n"
     ]
    }
   ],
   "source": [
    "print(df_10.Label.value_counts().to_string())"
   ]
  },
  {
   "cell_type": "code",
   "execution_count": 302,
   "metadata": {},
   "outputs": [
    {
     "name": "stdout",
     "output_type": "stream",
     "text": [
      "1    121171\n",
      "0      1028\n"
     ]
    }
   ],
   "source": [
    "print(df_10.Metalabel.value_counts().to_string())"
   ]
  },
  {
   "cell_type": "code",
   "execution_count": 303,
   "metadata": {},
   "outputs": [
    {
     "data": {
      "text/plain": [
       "<AxesSubplot:>"
      ]
     },
     "execution_count": 303,
     "metadata": {},
     "output_type": "execute_result"
    },
    {
     "data": {
      "image/png": "[encoded data removed]",
      "text/plain": [
       "<Figure size 1080x864 with 2 Axes>"
      ]
     },
     "metadata": {
      "needs_background": "light"
     },
     "output_type": "display_data"
    }
   ],
   "source": [
    "fig = plt.figure(figsize=(15,12))\n",
    "sns.heatmap(df_10.corr())"
   ]
  },
  {
   "cell_type": "code",
   "execution_count": 266,
   "metadata": {},
   "outputs": [],
   "source": [
    "# We can see that Source Address and Direction are the two most positively-correlated features with the Metalabel\n",
    "# However, \n"
   ]
  },
  {
   "cell_type": "code",
   "execution_count": null,
   "metadata": {},
   "outputs": [],
   "source": [
    "df_10."
   ]
  },
  {
   "cell_type": "code",
   "execution_count": null,
   "metadata": {},
   "outputs": [],
   "source": []
  },
  {
   "cell_type": "markdown",
   "metadata": {},
   "source": [
    "### 1a. Plot visualizations - Select and visualize two features for modeling the behavior of the infected host."
   ]
  },
  {
   "cell_type": "code",
   "execution_count": null,
   "metadata": {},
   "outputs": [],
   "source": []
  },
  {
   "cell_type": "markdown",
   "metadata": {},
   "source": [
    "### 1b. Discretize selected features"
   ]
  },
  {
   "cell_type": "code",
   "execution_count": null,
   "metadata": {},
   "outputs": [],
   "source": []
  },
  {
   "cell_type": "markdown",
   "metadata": {},
   "source": [
    "### 1b. Answers and explanation"
   ]
  },
  {
   "cell_type": "code",
   "execution_count": null,
   "metadata": {},
   "outputs": [],
   "source": []
  },
  {
   "cell_type": "markdown",
   "metadata": {},
   "source": [
    "## 2. Frequent task – 1/2 A4 (Individual)"
   ]
  },
  {
   "cell_type": "markdown",
   "metadata": {},
   "source": [
    "### 2a. Use the SPACE SAVING algorithm"
   ]
  },
  {
   "cell_type": "code",
   "execution_count": null,
   "metadata": {},
   "outputs": [],
   "source": []
  },
  {
   "cell_type": "markdown",
   "metadata": {},
   "source": [
    "### 2b. Analysis and answers to the questions"
   ]
  },
  {
   "cell_type": "code",
   "execution_count": null,
   "metadata": {},
   "outputs": [],
   "source": []
  },
  {
   "cell_type": "markdown",
   "metadata": {},
   "source": [
    "## 3. Sketching task – 1/2 A4 (Individual)"
   ]
  },
  {
   "cell_type": "markdown",
   "metadata": {},
   "source": [
    "### 3a. COUNT-MIN sketch\n"
   ]
  },
  {
   "cell_type": "code",
   "execution_count": null,
   "metadata": {},
   "outputs": [],
   "source": []
  },
  {
   "cell_type": "markdown",
   "metadata": {},
   "source": [
    "### 3b. Analysis and answers to the questions"
   ]
  },
  {
   "cell_type": "code",
   "execution_count": null,
   "metadata": {},
   "outputs": [],
   "source": []
  },
  {
   "cell_type": "markdown",
   "metadata": {},
   "source": [
    "## 4. Min-wise locality sensitive hashing task – 1/2 A4 (Individual)"
   ]
  },
  {
   "cell_type": "markdown",
   "metadata": {},
   "source": [
    "### 4a. Implementation"
   ]
  },
  {
   "cell_type": "code",
   "execution_count": null,
   "metadata": {},
   "outputs": [],
   "source": []
  },
  {
   "cell_type": "markdown",
   "metadata": {},
   "source": [
    "### 4b. Analysis and answers to the questions"
   ]
  },
  {
   "cell_type": "code",
   "execution_count": null,
   "metadata": {},
   "outputs": [],
   "source": []
  },
  {
   "cell_type": "markdown",
   "metadata": {},
   "source": [
    "## 5. Random hyperplane locality sensitive hashing task – 1/2 A4 (Individual)"
   ]
  },
  {
   "cell_type": "markdown",
   "metadata": {},
   "source": [
    "### 5a. Implementation - locality sensitive hashing"
   ]
  },
  {
   "cell_type": "code",
   "execution_count": null,
   "metadata": {},
   "outputs": [],
   "source": []
  },
  {
   "cell_type": "markdown",
   "metadata": {},
   "source": [
    "### 5b. Analysis and answers to the questions. Also provide relevant plots."
   ]
  },
  {
   "cell_type": "code",
   "execution_count": null,
   "metadata": {},
   "outputs": [],
   "source": []
  },
  {
   "cell_type": "markdown",
   "metadata": {},
   "source": [
    "## 6.Botnet profiling task – 1/2 A4"
   ]
  },
  {
   "cell_type": "markdown",
   "metadata": {},
   "source": [
    "### 6a. Learn a sequential model"
   ]
  },
  {
   "cell_type": "code",
   "execution_count": null,
   "metadata": {},
   "outputs": [],
   "source": []
  },
  {
   "cell_type": "markdown",
   "metadata": {},
   "source": [
    "### 6b. Analysis and answers to the questions."
   ]
  },
  {
   "cell_type": "code",
   "execution_count": null,
   "metadata": {},
   "outputs": [],
   "source": []
  },
  {
   "cell_type": "markdown",
   "metadata": {},
   "source": [
    "## 7.Botnet fingerprinting task – 1/2 A4"
   ]
  },
  {
   "cell_type": "markdown",
   "metadata": {},
   "source": [
    "### 7a. Fingerprinting\n"
   ]
  },
  {
   "cell_type": "code",
   "execution_count": null,
   "metadata": {},
   "outputs": [],
   "source": []
  },
  {
   "cell_type": "markdown",
   "metadata": {},
   "source": [
    "### 7b. Analysis and answers to the questions."
   ]
  },
  {
   "cell_type": "code",
   "execution_count": null,
   "metadata": {},
   "outputs": [],
   "source": []
  },
  {
   "cell_type": "markdown",
   "metadata": {},
   "source": [
    "## 8. Bonus Task 1/2 A4"
   ]
  },
  {
   "cell_type": "markdown",
   "metadata": {},
   "source": [
    "### 8a. Provide implementation and analysis."
   ]
  },
  {
   "cell_type": "code",
   "execution_count": null,
   "metadata": {},
   "outputs": [],
   "source": []
  }
 ],
 "metadata": {
  "kernelspec": {
   "display_name": "Python 3",
   "language": "python",
   "name": "python3"
  },
  "language_info": {
   "codemirror_mode": {
    "name": "ipython",
    "version": 3
   },
   "file_extension": ".py",
   "mimetype": "text/x-python",
   "name": "python",
   "nbconvert_exporter": "python",
   "pygments_lexer": "ipython3",
   "version": "3.9.4"
  }
 },
 "nbformat": 4,
 "nbformat_minor": 2
}
